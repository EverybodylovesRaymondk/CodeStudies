{
 "cells": [
  {
   "cell_type": "code",
   "execution_count": 32,
   "metadata": {},
   "outputs": [
    {
     "name": "stdout",
     "output_type": "stream",
     "text": [
      "MDMS Functions Initialized\n"
     ]
    }
   ],
   "source": [
    "# Symbolic link from /usr/lib64/libnsl.so.2.0.0 to /usr/lib64/libnsl.so.1 required\n",
    "\n",
    "from __future__ import print_function\n",
    "\n",
    "#import os\n",
    "#os.chdir(\"/usr/lib/oracle/19.3/client64/lib\")\n",
    "\n",
    "import traceback\n",
    "import cx_Oracle\n",
    "import numpy as np\n",
    "import pandas as pd\n",
    "import seaborn as sns\n",
    "import time\n",
    "import sys\n",
    "\n",
    "def connectToOracleDB():\n",
    "    global connection\n",
    "    global cursor\n",
    "    global username\n",
    "    global password\n",
    "    global host\n",
    "    global service\n",
    "    \n",
    "    connection = 0\n",
    "    cursor = 0\n",
    "    \n",
    "    host     = \"dboramdms.spsi.co.za\"\n",
    "    username = \"icemdmsudev\"\n",
    "    password = \"V3ry$3Cr!t\"\n",
    "    service  = \"mdms\"\n",
    "    \n",
    "    try:\n",
    "        \n",
    "        connection = cx_Oracle.connect(username, password, host+\"/\"+service)\n",
    "        \n",
    "        cursor = connection.cursor()\n",
    "        \n",
    "        print(\"\\nOracle DB connection initialized\\n\")\n",
    "        \n",
    "    except Exception as err:\n",
    "        exc_type, exc_value, exc_tb = sys.exc_info()\n",
    "        traceback.print_exception(exc_type, exc_value, exc_tb)\n",
    "        exit()\n",
    "           \n",
    "def executeSQLquery( sql ):\n",
    "    global cursor\n",
    "    \n",
    "    print(\"{}\".format(sql))\n",
    "    \n",
    "    cursor.execute( sql )\n",
    "    \n",
    "    return cursor.fetchall()\n",
    "\n",
    "def getMeterReadings( meterType, meterID, fromDt, toDt ):\n",
    "\n",
    "    #meterID = \"36a878da44b6434fbe12173931dceaf1\"\n",
    "    #fromDt = \"2019-10-01 00:00:00\" \n",
    "    #toDt = \"2019-10-31 23:59:59\"\n",
    "    \n",
    "    meterTypeCol = \"\"\n",
    "    \n",
    "    if( meterType == 'ELSTER'):\n",
    "        meterTypeCol = \"ELS_METER_ID\"\n",
    "    elif( meterType == \"KAMSTRUP\" ):\n",
    "        meterTypeCol = \"KAM_METER_ID\"\n",
    "    elif( meterType == \"ECHELON\" ):\n",
    "        meterTypeCol = \"NES_METER_ID\"\n",
    "    elif( meterType == \"GENERIC\" ):\n",
    "        meterTypeCol = \"GENERIC_METER_ID\"\n",
    "    \n",
    "    results = executeSQLquery( \"\"\"SELECT ENTRY_TIME, TOTAL_KWHP, TOTAL_KWHN, TOTAL_KVARP, TOTAL_KVARN FROM METER_READING\n",
    "                                    WHERE {} = '{}'\n",
    "                                    AND ENTRY_TIME BETWEEN TO_DATE('{}','YYYY-MM-DD HH24:MI:SS') AND TO_DATE('{}','YYYY-MM-DD HH24:MI:SS') \n",
    "                                    ORDER BY ENTRY_TIME ASC\"\"\"\n",
    "                              .format( meterTypeCol, meterID, fromDt, toDt ) )\n",
    "    \n",
    "    #results = executeSQLquery( \"\"\"SELECT * FROM ( SELECT METER_READING_ID, ENTRY_TIME, TOTAL_KWHP, TOTAL_KWHN, TOTAL_KVARP, TOTAL_KVARN FROM METER_READING\n",
    "    #                               WHERE NES_METER_ID = '{}'\n",
    "    #                              AND ( ENTRY_TIME BETWEEN TO_DATE('{}','YYYY-MM-DD HH24:MI:SS') AND\n",
    "    #                                TO_DATE('{}','YYYY-MM-DD HH24:MI:SS')) ORDER BY ENTRY_TIME ASC )\n",
    "    #                                WHERE ROWNUM <= {:d}\"\"\"\n",
    "    #                          .format( meterID, fromDt, toDt, days*48 ) )\n",
    "    \n",
    "    return results\n",
    "\n",
    "print(\"MDMS Functions Initialized\")"
   ]
  },
  {
   "cell_type": "code",
   "execution_count": 33,
   "metadata": {},
   "outputs": [
    {
     "name": "stdout",
     "output_type": "stream",
     "text": [
      "\n",
      "Oracle DB connection initialized\n",
      "\n"
     ]
    }
   ],
   "source": [
    "connectToOracleDB()"
   ]
  },
  {
   "cell_type": "code",
   "execution_count": 34,
   "metadata": {},
   "outputs": [
    {
     "name": "stdout",
     "output_type": "stream",
     "text": [
      "SELECT ENTRY_TIME, TOTAL_KWHP, TOTAL_KWHN, TOTAL_KVARP, TOTAL_KVARN FROM METER_READING\n",
      "                                    WHERE KAM_METER_ID = '4a6baa3d-5463-409e-9789-4a323dc0b6b4'\n",
      "                                    AND ENTRY_TIME BETWEEN TO_DATE('2020-04-01 00:00:00','YYYY-MM-DD HH24:MI:SS') AND TO_DATE('2020-04-15 23:59:59','YYYY-MM-DD HH24:MI:SS') \n",
      "                                    ORDER BY ENTRY_TIME ASC\n"
     ]
    },
    {
     "data": {
      "text/html": [
       "<div>\n",
       "<style scoped>\n",
       "    .dataframe tbody tr th:only-of-type {\n",
       "        vertical-align: middle;\n",
       "    }\n",
       "\n",
       "    .dataframe tbody tr th {\n",
       "        vertical-align: top;\n",
       "    }\n",
       "\n",
       "    .dataframe thead th {\n",
       "        text-align: right;\n",
       "    }\n",
       "</style>\n",
       "<table border=\"1\" class=\"dataframe\">\n",
       "  <thead>\n",
       "    <tr style=\"text-align: right;\">\n",
       "      <th></th>\n",
       "      <th>ENTRY_TIME</th>\n",
       "      <th>TOTAL_KWHP</th>\n",
       "      <th>TOTAL_KWHN</th>\n",
       "      <th>TOTAL_KVARP</th>\n",
       "      <th>TOTAL_KVARN</th>\n",
       "    </tr>\n",
       "  </thead>\n",
       "  <tbody>\n",
       "    <tr>\n",
       "      <th>0</th>\n",
       "      <td>2020-04-01 00:00:00</td>\n",
       "      <td>38439.25</td>\n",
       "      <td>0.0</td>\n",
       "      <td>214.20</td>\n",
       "      <td>22.24</td>\n",
       "    </tr>\n",
       "    <tr>\n",
       "      <th>1</th>\n",
       "      <td>2020-04-01 00:30:00</td>\n",
       "      <td>38443.93</td>\n",
       "      <td>0.0</td>\n",
       "      <td>214.22</td>\n",
       "      <td>22.24</td>\n",
       "    </tr>\n",
       "    <tr>\n",
       "      <th>2</th>\n",
       "      <td>2020-04-01 01:00:00</td>\n",
       "      <td>38448.49</td>\n",
       "      <td>0.0</td>\n",
       "      <td>214.25</td>\n",
       "      <td>22.24</td>\n",
       "    </tr>\n",
       "    <tr>\n",
       "      <th>3</th>\n",
       "      <td>2020-04-01 01:30:00</td>\n",
       "      <td>38453.14</td>\n",
       "      <td>0.0</td>\n",
       "      <td>214.28</td>\n",
       "      <td>22.24</td>\n",
       "    </tr>\n",
       "    <tr>\n",
       "      <th>4</th>\n",
       "      <td>2020-04-01 02:00:00</td>\n",
       "      <td>38457.71</td>\n",
       "      <td>0.0</td>\n",
       "      <td>214.30</td>\n",
       "      <td>22.24</td>\n",
       "    </tr>\n",
       "    <tr>\n",
       "      <th>5</th>\n",
       "      <td>2020-04-01 02:30:00</td>\n",
       "      <td>38462.28</td>\n",
       "      <td>0.0</td>\n",
       "      <td>214.33</td>\n",
       "      <td>22.24</td>\n",
       "    </tr>\n",
       "    <tr>\n",
       "      <th>6</th>\n",
       "      <td>2020-04-01 03:00:00</td>\n",
       "      <td>38466.80</td>\n",
       "      <td>0.0</td>\n",
       "      <td>214.36</td>\n",
       "      <td>22.24</td>\n",
       "    </tr>\n",
       "    <tr>\n",
       "      <th>7</th>\n",
       "      <td>2020-04-01 03:30:00</td>\n",
       "      <td>38471.44</td>\n",
       "      <td>0.0</td>\n",
       "      <td>214.38</td>\n",
       "      <td>22.24</td>\n",
       "    </tr>\n",
       "    <tr>\n",
       "      <th>8</th>\n",
       "      <td>2020-04-01 04:00:00</td>\n",
       "      <td>38476.09</td>\n",
       "      <td>0.0</td>\n",
       "      <td>214.41</td>\n",
       "      <td>22.24</td>\n",
       "    </tr>\n",
       "    <tr>\n",
       "      <th>9</th>\n",
       "      <td>2020-04-01 04:30:00</td>\n",
       "      <td>38480.71</td>\n",
       "      <td>0.0</td>\n",
       "      <td>214.43</td>\n",
       "      <td>22.24</td>\n",
       "    </tr>\n",
       "  </tbody>\n",
       "</table>\n",
       "</div>"
      ],
      "text/plain": [
       "           ENTRY_TIME  TOTAL_KWHP  TOTAL_KWHN  TOTAL_KVARP  TOTAL_KVARN\n",
       "0 2020-04-01 00:00:00    38439.25         0.0       214.20        22.24\n",
       "1 2020-04-01 00:30:00    38443.93         0.0       214.22        22.24\n",
       "2 2020-04-01 01:00:00    38448.49         0.0       214.25        22.24\n",
       "3 2020-04-01 01:30:00    38453.14         0.0       214.28        22.24\n",
       "4 2020-04-01 02:00:00    38457.71         0.0       214.30        22.24\n",
       "5 2020-04-01 02:30:00    38462.28         0.0       214.33        22.24\n",
       "6 2020-04-01 03:00:00    38466.80         0.0       214.36        22.24\n",
       "7 2020-04-01 03:30:00    38471.44         0.0       214.38        22.24\n",
       "8 2020-04-01 04:00:00    38476.09         0.0       214.41        22.24\n",
       "9 2020-04-01 04:30:00    38480.71         0.0       214.43        22.24"
      ]
     },
     "execution_count": 34,
     "metadata": {},
     "output_type": "execute_result"
    }
   ],
   "source": [
    "mid = \"4a6baa3d-5463-409e-9789-4a323dc0b6b4\" # meter_sn = \"30829119\"\n",
    "\n",
    "meterReadings = getMeterReadings( meterType=\"KAMSTRUP\", meterID=mid, fromDt='2020-04-01 00:00:00', toDt='2020-04-15 23:59:59')\n",
    "meterReadings = pd.DataFrame(data=meterReadings, columns=['ENTRY_TIME','TOTAL_KWHP','TOTAL_KWHN','TOTAL_KVARP','TOTAL_KVARN'])\n",
    "meterReadings.head(10)"
   ]
  },
  {
   "cell_type": "code",
   "execution_count": 35,
   "metadata": {},
   "outputs": [],
   "source": [
    "meterReadings.index = meterReadings['ENTRY_TIME']"
   ]
  },
  {
   "cell_type": "code",
   "execution_count": 36,
   "metadata": {},
   "outputs": [
    {
     "data": {
      "text/html": [
       "<div>\n",
       "<style scoped>\n",
       "    .dataframe tbody tr th:only-of-type {\n",
       "        vertical-align: middle;\n",
       "    }\n",
       "\n",
       "    .dataframe tbody tr th {\n",
       "        vertical-align: top;\n",
       "    }\n",
       "\n",
       "    .dataframe thead th {\n",
       "        text-align: right;\n",
       "    }\n",
       "</style>\n",
       "<table border=\"1\" class=\"dataframe\">\n",
       "  <thead>\n",
       "    <tr style=\"text-align: right;\">\n",
       "      <th></th>\n",
       "      <th>ENTRY_TIME</th>\n",
       "      <th>TOTAL_KWHP</th>\n",
       "      <th>TOTAL_KWHN</th>\n",
       "      <th>TOTAL_KVARP</th>\n",
       "      <th>TOTAL_KVARN</th>\n",
       "    </tr>\n",
       "    <tr>\n",
       "      <th>ENTRY_TIME</th>\n",
       "      <th></th>\n",
       "      <th></th>\n",
       "      <th></th>\n",
       "      <th></th>\n",
       "      <th></th>\n",
       "    </tr>\n",
       "  </thead>\n",
       "  <tbody>\n",
       "    <tr>\n",
       "      <th>2020-04-01 00:00:00</th>\n",
       "      <td>2020-04-01 00:00:00</td>\n",
       "      <td>38439.25</td>\n",
       "      <td>0.0</td>\n",
       "      <td>214.20</td>\n",
       "      <td>22.24</td>\n",
       "    </tr>\n",
       "    <tr>\n",
       "      <th>2020-04-01 00:30:00</th>\n",
       "      <td>2020-04-01 00:30:00</td>\n",
       "      <td>38443.93</td>\n",
       "      <td>0.0</td>\n",
       "      <td>214.22</td>\n",
       "      <td>22.24</td>\n",
       "    </tr>\n",
       "    <tr>\n",
       "      <th>2020-04-01 01:00:00</th>\n",
       "      <td>2020-04-01 01:00:00</td>\n",
       "      <td>38448.49</td>\n",
       "      <td>0.0</td>\n",
       "      <td>214.25</td>\n",
       "      <td>22.24</td>\n",
       "    </tr>\n",
       "    <tr>\n",
       "      <th>2020-04-01 01:30:00</th>\n",
       "      <td>2020-04-01 01:30:00</td>\n",
       "      <td>38453.14</td>\n",
       "      <td>0.0</td>\n",
       "      <td>214.28</td>\n",
       "      <td>22.24</td>\n",
       "    </tr>\n",
       "    <tr>\n",
       "      <th>2020-04-01 02:00:00</th>\n",
       "      <td>2020-04-01 02:00:00</td>\n",
       "      <td>38457.71</td>\n",
       "      <td>0.0</td>\n",
       "      <td>214.30</td>\n",
       "      <td>22.24</td>\n",
       "    </tr>\n",
       "  </tbody>\n",
       "</table>\n",
       "</div>"
      ],
      "text/plain": [
       "                             ENTRY_TIME  TOTAL_KWHP  TOTAL_KWHN  TOTAL_KVARP  \\\n",
       "ENTRY_TIME                                                                     \n",
       "2020-04-01 00:00:00 2020-04-01 00:00:00    38439.25         0.0       214.20   \n",
       "2020-04-01 00:30:00 2020-04-01 00:30:00    38443.93         0.0       214.22   \n",
       "2020-04-01 01:00:00 2020-04-01 01:00:00    38448.49         0.0       214.25   \n",
       "2020-04-01 01:30:00 2020-04-01 01:30:00    38453.14         0.0       214.28   \n",
       "2020-04-01 02:00:00 2020-04-01 02:00:00    38457.71         0.0       214.30   \n",
       "\n",
       "                     TOTAL_KVARN  \n",
       "ENTRY_TIME                        \n",
       "2020-04-01 00:00:00        22.24  \n",
       "2020-04-01 00:30:00        22.24  \n",
       "2020-04-01 01:00:00        22.24  \n",
       "2020-04-01 01:30:00        22.24  \n",
       "2020-04-01 02:00:00        22.24  "
      ]
     },
     "execution_count": 36,
     "metadata": {},
     "output_type": "execute_result"
    }
   ],
   "source": [
    "meterReadings.head()"
   ]
  },
  {
   "cell_type": "markdown",
   "metadata": {},
   "source": [
    "## TOU Peak , Standard, & Off-Peak Register Consumption Calculations"
   ]
  },
  {
   "cell_type": "code",
   "execution_count": 148,
   "metadata": {},
   "outputs": [],
   "source": [
    "touStartDate  = \"2020-04-02\"\n",
    "touEndDate    = \"2020-04-08\"\n",
    "\n",
    "reading_list_dates = pd.date_range( touStartDate, touEndDate, freq=\"1D\" )"
   ]
  },
  {
   "cell_type": "code",
   "execution_count": 149,
   "metadata": {},
   "outputs": [],
   "source": [
    "weekdayDates  = []\n",
    "saturdayDates = []\n",
    "sundayDates   = []\n",
    "\n",
    "weekdayNames  = [\"Monday\",\"Tuesday\",\"Wednesday\",\"Thursday\",\"Friday\"]\n",
    "saturdayNames = [\"Saturday\"]\n",
    "sundayNames   = [\"Sunday\"]\n",
    "\n",
    "for date in reading_list_dates:\n",
    "\n",
    "    dayName = date.day_name(locale=None)\n",
    "    \n",
    "    if dayName in weekdayNames:\n",
    "        weekdayDates.append( str(date) )\n",
    "    elif dayName in saturdayNames:\n",
    "        saturdayDates.append( str(date) )\n",
    "    elif dayName in sundayNames:\n",
    "        sundayDates.append( str(date) )"
   ]
  },
  {
   "cell_type": "code",
   "execution_count": 150,
   "metadata": {},
   "outputs": [],
   "source": [
    "pk_reg_cons    = 0.0\n",
    "std_reg_cons   = 0.0\n",
    "offpk_reg_cons = 0.0"
   ]
  },
  {
   "cell_type": "markdown",
   "metadata": {},
   "source": [
    "### Weekday TOU Schedule"
   ]
  },
  {
   "cell_type": "code",
   "execution_count": 151,
   "metadata": {},
   "outputs": [],
   "source": [
    "weekdayTimeslots = []\n",
    "weekdayTimeslots.append({\"startTime\":\"00:00:00\", \"endTime\":\"06:00:00\",\"type\":\"OP\"})\n",
    "weekdayTimeslots.append({\"startTime\":\"06:00:00\", \"endTime\":\"07:00:00\",\"type\":\"S\"})\n",
    "weekdayTimeslots.append({\"startTime\":\"07:00:00\", \"endTime\":\"10:00:00\",\"type\":\"P\"})\n",
    "weekdayTimeslots.append({\"startTime\":\"10:00:00\", \"endTime\":\"18:00:00\",\"type\":\"S\"})\n",
    "weekdayTimeslots.append({\"startTime\":\"18:00:00\", \"endTime\":\"20:00:00\",\"type\":\"P\"})\n",
    "weekdayTimeslots.append({\"startTime\":\"20:00:00\", \"endTime\":\"22:00:00\",\"type\":\"S\"})\n",
    "\n",
    "def weekday_sched( timeslot ):\n",
    "\n",
    "    startTime = timeslot[\"startTime\"]\n",
    "    endTime   = timeslot[\"endTime\"]\n",
    "    touType   = timeslot[\"type\"]\n",
    "\n",
    "    week_sched = []\n",
    "    for wk_date in weekdayDates:\n",
    "        week_sched.append( {\"touType\":touType,\"startDate\":wk_date,\"startTime\":startTime,\"endDate\":wk_date,\"endTime\":endTime} )\n",
    "\n",
    "    return week_sched\n",
    "\n",
    "weekday_tou_schedules = []\n",
    "\n",
    "for tslot in weekdayTimeslots:\n",
    "    weekday_tou_schedules.append( weekday_sched( timeslot=tslot ) ) "
   ]
  },
  {
   "cell_type": "code",
   "execution_count": 152,
   "metadata": {},
   "outputs": [
    {
     "name": "stdout",
     "output_type": "stream",
     "text": [
      "Weekday Total Consumption: 1021.970\n"
     ]
    }
   ],
   "source": [
    "weekday_total_consumption = 0.0\n",
    "\n",
    "for weekdaySched in weekday_tou_schedules:\n",
    "    \n",
    "    for sched in weekdaySched:\n",
    "        \n",
    "        startDateTime = sched[\"startDate\"] + \" \" + sched[\"startTime\"]\n",
    "        startDT = pd.to_datetime(startDateTime)\n",
    "        startDT = startDT - pd.Timedelta('2 hour')\n",
    "        \n",
    "        endDateTime   = sched[\"endDate\"]   + \" \" + sched[\"endTime\"]\n",
    "        endDT = pd.to_datetime(endDateTime)\n",
    "        endDT = endDT - pd.Timedelta('2 hour')\n",
    "\n",
    "        readings_df = meterReadings[ startDT : endDT ]\n",
    "\n",
    "        readingsDiff = readings_df['TOTAL_KWHP'].iloc[-1] - readings_df['TOTAL_KWHP'].iloc[0]\n",
    "        \n",
    "        weekday_total_consumption = weekday_total_consumption + readingsDiff\n",
    "        \n",
    "        touType = sched[\"touType\"]\n",
    "        \n",
    "        if touType == \"P\":\n",
    "            pk_reg_cons = pk_reg_cons + readingsDiff\n",
    "        elif touType == \"S\":\n",
    "            std_reg_cons = std_reg_cons + readingsDiff\n",
    "        elif touType == \"OP\":\n",
    "            offpk_reg_cons = offpk_reg_cons + readingsDiff\n",
    "\n",
    "print(\"Weekday Total Consumption: {:.3f}\".format(weekday_total_consumption) )"
   ]
  },
  {
   "cell_type": "markdown",
   "metadata": {},
   "source": [
    "### Saturday TOU Schedule"
   ]
  },
  {
   "cell_type": "code",
   "execution_count": 153,
   "metadata": {},
   "outputs": [],
   "source": [
    "saturdayTimeslots = []\n",
    "saturdayTimeslots.append({\"startTime\":\"00:00:00\", \"endTime\":\"23:59:59\", \"type\":\"OP\"})\n",
    "\n",
    "def saturday_sched( timeslot ):\n",
    "\n",
    "    startTime = timeslot[\"startTime\"]\n",
    "    endTime   = timeslot[\"endTime\"]\n",
    "    touType   = timeslot[\"type\"]\n",
    "\n",
    "    sat_sched = []\n",
    "    for sat_date in saturdayDates:\n",
    "        sat_sched.append( {\"touType\":touType,\"startDate\":sat_date,\"startTime\":startTime,\"endDate\":sat_date,\"endTime\":endTime} )\n",
    "    \n",
    "    return sat_sched\n",
    "\n",
    "saturday_tou_schedules = []\n",
    "\n",
    "for tslot in saturdayTimeslots:\n",
    "    saturday_tou_schedules.append( saturday_sched( timeslot=tslot ) ) "
   ]
  },
  {
   "cell_type": "code",
   "execution_count": 154,
   "metadata": {},
   "outputs": [
    {
     "name": "stdout",
     "output_type": "stream",
     "text": [
      "Saturday Total Consumption: 218.840\n"
     ]
    }
   ],
   "source": [
    "saturday_total_consumption = 0.0\n",
    "\n",
    "for saturdaySched in saturday_tou_schedules:\n",
    "    \n",
    "    for sched in saturdaySched:\n",
    "\n",
    "        startDateTime = sched[\"startDate\"] + \" \" + sched[\"startTime\"]\n",
    "        startDT = pd.to_datetime(startDateTime)\n",
    "        startDT = startDT - pd.Timedelta('2 hour')\n",
    "        \n",
    "        endDateTime   = sched[\"endDate\"]   + \" \" + sched[\"endTime\"]\n",
    "        endDT = pd.to_datetime(endDateTime)\n",
    "        endDT = endDT - pd.Timedelta('2 hour')\n",
    "\n",
    "        readings_df = meterReadings[ startDT : endDT ]\n",
    "\n",
    "        readingsDiff = readings_df['TOTAL_KWHP'].iloc[-1] - readings_df['TOTAL_KWHP'].iloc[0]\n",
    "\n",
    "        saturday_total_consumption = saturday_total_consumption + readingsDiff\n",
    "        \n",
    "        touType = sched[\"touType\"]\n",
    "        \n",
    "        if touType == \"P\":\n",
    "            pk_reg_cons = pk_reg_cons + readingsDiff\n",
    "        elif touType == \"S\":\n",
    "            std_reg_cons = std_reg_cons + readingsDiff\n",
    "        elif touType == \"OP\":\n",
    "            offpk_reg_cons = offpk_reg_cons + readingsDiff\n",
    "    \n",
    "print(\"Saturday Total Consumption: {:.3f}\".format(saturday_total_consumption) )"
   ]
  },
  {
   "cell_type": "markdown",
   "metadata": {},
   "source": [
    "### Sunday TOU Schedule"
   ]
  },
  {
   "cell_type": "code",
   "execution_count": 155,
   "metadata": {},
   "outputs": [],
   "source": [
    "sundayTimeslots = []\n",
    "sundayTimeslots.append({\"startTime\":\"00:00:00\", \"endTime\":\"23:59:59\", \"type\":\"OP\"})\n",
    "\n",
    "def sunday_sched( timeslot ):\n",
    "\n",
    "    startTime = timeslot[\"startTime\"]\n",
    "    endTime   = timeslot[\"endTime\"]\n",
    "    touType   = timeslot[\"type\"]\n",
    "\n",
    "    sun_sched = []\n",
    "    for sun_date in saturdayDates:\n",
    "        sun_sched.append( {\"touType\":touType,\"startDate\":sun_date,\"startTime\":startTime,\"endDate\":sun_date,\"endTime\":endTime} )\n",
    "    \n",
    "    return sun_sched\n",
    "\n",
    "sunday_tou_schedules = []\n",
    "\n",
    "for tslot in sundayTimeslots:\n",
    "    sunday_tou_schedules.append( sunday_sched( timeslot=tslot ) )"
   ]
  },
  {
   "cell_type": "code",
   "execution_count": 156,
   "metadata": {},
   "outputs": [
    {
     "name": "stdout",
     "output_type": "stream",
     "text": [
      "Sunday Total Consumption: 218.840\n"
     ]
    }
   ],
   "source": [
    "sunday_total_consumption = 0.0\n",
    "\n",
    "for sundaySched in sunday_tou_schedules:\n",
    "    \n",
    "    for sched in sundaySched:\n",
    "\n",
    "        startDateTime = sched[\"startDate\"] + \" \" + sched[\"startTime\"]\n",
    "        startDT = pd.to_datetime(startDateTime)\n",
    "        startDT = startDT - pd.Timedelta('2 hour')\n",
    "        \n",
    "        endDateTime   = sched[\"endDate\"]   + \" \" + sched[\"endTime\"]\n",
    "        endDT = pd.to_datetime(endDateTime)\n",
    "        endDT = endDT - pd.Timedelta('2 hour')\n",
    "\n",
    "        readings_df = meterReadings[ startDT : endDT ]\n",
    "\n",
    "        readingsDiff = readings_df['TOTAL_KWHP'].iloc[-1] - readings_df['TOTAL_KWHP'].iloc[0]\n",
    "\n",
    "        sunday_total_consumption = sunday_total_consumption + readingsDiff\n",
    "        \n",
    "        touType = sched[\"touType\"]\n",
    "        \n",
    "        if touType == \"P\":\n",
    "            pk_reg_cons = pk_reg_cons + readingsDiff\n",
    "        elif touType == \"S\":\n",
    "            std_reg_cons = std_reg_cons + readingsDiff\n",
    "        elif touType == \"OP\":\n",
    "            offpk_reg_cons = offpk_reg_cons + readingsDiff\n",
    "    \n",
    "print(\"Sunday Total Consumption: {:.3f}\".format(sunday_total_consumption) )"
   ]
  },
  {
   "cell_type": "code",
   "execution_count": 157,
   "metadata": {},
   "outputs": [
    {
     "name": "stdout",
     "output_type": "stream",
     "text": [
      "Peak Register Consumption: 231.200\n",
      "Standard Register Consumption: 512.340\n",
      "Off-Peak Register Consumption: 716.110\n"
     ]
    }
   ],
   "source": [
    "print(\"Peak Register Consumption: {:.3f}\".format(pk_reg_cons))\n",
    "print(\"Standard Register Consumption: {:.3f}\".format(std_reg_cons))\n",
    "print(\"Off-Peak Register Consumption: {:.3f}\".format(offpk_reg_cons))"
   ]
  },
  {
   "cell_type": "code",
   "execution_count": 158,
   "metadata": {},
   "outputs": [
    {
     "name": "stdout",
     "output_type": "stream",
     "text": [
      "TOU Total Consumption: 1459.650\n"
     ]
    }
   ],
   "source": [
    "total_tou_consumption = pk_reg_cons + std_reg_cons + offpk_reg_cons\n",
    "print(\"TOU Total Consumption: {:.3f}\".format( total_tou_consumption ))"
   ]
  },
  {
   "cell_type": "markdown",
   "metadata": {},
   "source": [
    "## Total kWh Consumption Calculation"
   ]
  },
  {
   "cell_type": "code",
   "execution_count": 160,
   "metadata": {},
   "outputs": [
    {
     "name": "stdout",
     "output_type": "stream",
     "text": [
      "Total kWhP Register Consumption: 1557.240\n"
     ]
    }
   ],
   "source": [
    "touStartDateTime  =  touStartDate + \" 00:00:00\" \n",
    "touEndDateTime    =  touEndDate   + \" 23:59:59\"\n",
    "\n",
    "readings_df = meterReadings[ touStartDateTime : touEndDateTime ]\n",
    "totalkWhP_diff = readings_df['TOTAL_KWHP'].iloc[-1] - readings_df['TOTAL_KWHP'].iloc[0]\n",
    "print(\"Total kWhP Register Consumption: {:.3f}\".format(totalkWhP_diff))"
   ]
  }
 ],
 "metadata": {
  "kernelspec": {
   "display_name": "Python 3",
   "language": "python",
   "name": "python3"
  },
  "language_info": {
   "codemirror_mode": {
    "name": "ipython",
    "version": 3
   },
   "file_extension": ".py",
   "mimetype": "text/x-python",
   "name": "python",
   "nbconvert_exporter": "python",
   "pygments_lexer": "ipython3",
   "version": "3.7.3"
  }
 },
 "nbformat": 4,
 "nbformat_minor": 4
}
