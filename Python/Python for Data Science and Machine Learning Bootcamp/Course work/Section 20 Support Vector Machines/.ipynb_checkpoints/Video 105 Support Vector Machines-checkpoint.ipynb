{
 "cells": [
  {
   "cell_type": "markdown",
   "metadata": {},
   "source": [
    "# Importing Modules"
   ]
  },
  {
   "cell_type": "code",
   "execution_count": null,
   "metadata": {},
   "outputs": [],
   "source": [
    "import pandas as pd\n",
    "import numpy as np\n",
    "from termcolor import colored"
   ]
  },
  {
   "cell_type": "code",
   "execution_count": null,
   "metadata": {},
   "outputs": [],
   "source": [
    "import matplotlib.pyplot as plt\n",
    "import seaborn as sns "
   ]
  },
  {
   "cell_type": "code",
   "execution_count": null,
   "metadata": {},
   "outputs": [],
   "source": [
    "%matplotlib inline"
   ]
  },
  {
   "cell_type": "code",
   "execution_count": null,
   "metadata": {},
   "outputs": [],
   "source": [
    "from sklearn.model_selection import train_test_split"
   ]
  },
  {
   "cell_type": "markdown",
   "metadata": {},
   "source": [
    "# Loading the data set"
   ]
  },
  {
   "cell_type": "code",
   "execution_count": null,
   "metadata": {},
   "outputs": [],
   "source": [
    "from sklearn.datasets import load_breast_cancer"
   ]
  },
  {
   "cell_type": "code",
   "execution_count": null,
   "metadata": {},
   "outputs": [],
   "source": [
    "cancer = load_breast_cancer()"
   ]
  },
  {
   "cell_type": "code",
   "execution_count": null,
   "metadata": {},
   "outputs": [],
   "source": [
    "#Will give a description of the actual data set\n",
    "#print(cancer['DESCR'])"
   ]
  },
  {
   "cell_type": "code",
   "execution_count": null,
   "metadata": {},
   "outputs": [],
   "source": [
    "cancer.keys()"
   ]
  },
  {
   "cell_type": "code",
   "execution_count": null,
   "metadata": {},
   "outputs": [],
   "source": [
    "df_feat = pd.DataFrame(cancer['data'],columns=cancer['feature_names'])\n",
    "df_feat.info()"
   ]
  },
  {
   "cell_type": "markdown",
   "metadata": {},
   "source": [
    "# Creating Train test split"
   ]
  },
  {
   "cell_type": "code",
   "execution_count": null,
   "metadata": {},
   "outputs": [],
   "source": [
    "X=df_feat\n",
    "y=cancer['target']\n",
    "X_train, X_test, y_train, y_test = train_test_split(X, y, test_size=0.3, random_state=101)"
   ]
  },
  {
   "cell_type": "markdown",
   "metadata": {},
   "source": [
    "# Importing the Support Vector Machines classifier"
   ]
  },
  {
   "cell_type": "code",
   "execution_count": null,
   "metadata": {},
   "outputs": [],
   "source": [
    "from sklearn.svm import SVC"
   ]
  },
  {
   "cell_type": "code",
   "execution_count": null,
   "metadata": {},
   "outputs": [],
   "source": [
    "model = SVC(gamma='auto')"
   ]
  },
  {
   "cell_type": "code",
   "execution_count": null,
   "metadata": {},
   "outputs": [],
   "source": [
    "model.fit(X_train,y_train)"
   ]
  },
  {
   "cell_type": "code",
   "execution_count": null,
   "metadata": {},
   "outputs": [],
   "source": [
    "predictions = model.predict(X_test)"
   ]
  },
  {
   "cell_type": "code",
   "execution_count": null,
   "metadata": {},
   "outputs": [],
   "source": [
    "from sklearn.metrics import classification_report,confusion_matrix"
   ]
  },
  {
   "cell_type": "code",
   "execution_count": null,
   "metadata": {},
   "outputs": [],
   "source": [
    "FP = confusion_matrix(y_test,predictions)[0][1]\n",
    "C0T=confusion_matrix(y_test,predictions)[0][1]+confusion_matrix(y_test,predictions)[0][0]\n",
    "\n",
    "FN = confusion_matrix(y_test,predictions)[1][0]\n",
    "C1T=confusion_matrix(y_test,predictions)[1][0]+confusion_matrix(y_test,predictions)[1][1]"
   ]
  },
  {
   "cell_type": "code",
   "execution_count": null,
   "metadata": {},
   "outputs": [],
   "source": [
    "def Model_analysis1():\n",
    "    \n",
    "    print(colored('Model Evaluation 1 \\nClasses', 'blue', attrs=['bold','underline']))\n",
    "    print('\\t0 = {} \\n\\t1 = {}\\n'.format(cancer['target_names'][0].capitalize()\n",
    "                               ,cancer['target_names'][1].capitalize()))\n",
    "    print(colored('Confusion Matrix analysis', 'blue', attrs=['bold','underline']))\n",
    "    print('\\tClass 0: {} of {} = False positives\\n\\tClass 1: {} of {} = False Negatives'.format(FP,C0T,FN,C1T))\n",
    "    print(colored('\\nClasicfication Report\\n','blue',attrs=['bold','underline']))\n",
    "    print(classification_report(y_test,predictions))\n"
   ]
  },
  {
   "cell_type": "code",
   "execution_count": null,
   "metadata": {},
   "outputs": [],
   "source": [
    "Model_analysis1()"
   ]
  },
  {
   "cell_type": "markdown",
   "metadata": {},
   "source": [
    "**NOTE:**\n",
    "The model predicted that all values are in class 1. \n",
    "\n",
    "This is because the model needs to have the parameters adjusted.\n",
    "We can use a grid search to find the optimal values for the parameters of the model \n",
    "\n",
    "\n",
    "It would also help to normalize the data before using it in the model"
   ]
  },
  {
   "cell_type": "markdown",
   "metadata": {},
   "source": [
    "# Importing gridsearch model from sklearn"
   ]
  },
  {
   "cell_type": "code",
   "execution_count": null,
   "metadata": {},
   "outputs": [],
   "source": [
    "from sklearn.model_selection import GridSearchCV"
   ]
  },
  {
   "cell_type": "markdown",
   "metadata": {},
   "source": [
    "# Creating a parameter grid for C and gama values"
   ]
  },
  {
   "cell_type": "code",
   "execution_count": null,
   "metadata": {},
   "outputs": [],
   "source": [
    "param_grid = {'C':[0.1,1,10,100,1000],'gamma':[1,0.1,0.01,0.001,0.0001]}"
   ]
  },
  {
   "cell_type": "code",
   "execution_count": null,
   "metadata": {},
   "outputs": [],
   "source": [
    "grid=GridSearchCV(SVC(),param_grid,verbose=3,)"
   ]
  },
  {
   "cell_type": "code",
   "execution_count": null,
   "metadata": {},
   "outputs": [],
   "source": [
    "grid.fit(X_train,y_train)"
   ]
  },
  {
   "cell_type": "markdown",
   "metadata": {},
   "source": [
    "# Getting the optimal parameters / estimator / from the gridsearch as well as the hightest score."
   ]
  },
  {
   "cell_type": "code",
   "execution_count": null,
   "metadata": {},
   "outputs": [],
   "source": [
    "print(grid.best_params_)\n",
    "print('\\n')\n",
    "print(grid.best_estimator_)\n",
    "print('\\n')\n",
    "print(grid.best_score_)"
   ]
  },
  {
   "cell_type": "markdown",
   "metadata": {},
   "source": [
    "# Re running the model based the grid search values"
   ]
  },
  {
   "cell_type": "code",
   "execution_count": null,
   "metadata": {},
   "outputs": [],
   "source": [
    "grid_predictions = grid.predict(X_test)"
   ]
  },
  {
   "cell_type": "markdown",
   "metadata": {},
   "source": [
    "# Evaluating the model"
   ]
  },
  {
   "cell_type": "code",
   "execution_count": null,
   "metadata": {},
   "outputs": [],
   "source": [
    "FP = confusion_matrix(y_test,grid_predictions)[0][1]\n",
    "C0T=confusion_matrix(y_test,grid_predictions)[0][1]+confusion_matrix(y_test,grid_predictions)[0][0]\n",
    "\n",
    "FN = confusion_matrix(y_test,grid_predictions)[1][0]\n",
    "C1T=confusion_matrix(y_test,grid_predictions)[1][0]+confusion_matrix(y_test,grid_predictions)[1][1]"
   ]
  },
  {
   "cell_type": "code",
   "execution_count": null,
   "metadata": {},
   "outputs": [],
   "source": [
    "def Model_analysis2():\n",
    "    print(colored('Model Evaluation 2 \\nClasses', 'blue', attrs=['bold','underline']))\n",
    "    print('\\t0 = {} \\n\\t1 = {}\\n'.format(cancer['target_names'][0].capitalize()\n",
    "                               ,cancer['target_names'][1].capitalize()))\n",
    "    print(colored('Confusion Matrix analysis', 'blue', attrs=['bold','underline']))\n",
    "    print('\\tClass 0: {} of {} = False positives\\n\\tClass 1: {} of {} = False Negatives'.format(FP,C0T,FN,C1T))\n",
    "    \n",
    "    print(colored('\\nClasicfication Report\\n','blue',attrs=['bold','underline']))\n",
    "    print(classification_report(y_test,grid_predictions))\n",
    "    \n",
    "    print(colored('Code Completed!!','blue',attrs=['bold','underline']))"
   ]
  },
  {
   "cell_type": "code",
   "execution_count": null,
   "metadata": {},
   "outputs": [],
   "source": [
    "Model_analysis2()\n",
    "#https://realpython.com/creating-modifying-pdf/#creating-a-pdf-file-from-scratch"
   ]
  }
 ],
 "metadata": {
  "kernelspec": {
   "display_name": "Python 3",
   "language": "python",
   "name": "python3"
  },
  "language_info": {
   "codemirror_mode": {
    "name": "ipython",
    "version": 3
   },
   "file_extension": ".py",
   "mimetype": "text/x-python",
   "name": "python",
   "nbconvert_exporter": "python",
   "pygments_lexer": "ipython3",
   "version": "3.7.3"
  }
 },
 "nbformat": 4,
 "nbformat_minor": 2
}
