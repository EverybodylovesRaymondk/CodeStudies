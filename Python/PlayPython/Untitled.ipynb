{
 "cells": [
  {
   "cell_type": "code",
   "execution_count": 4,
   "metadata": {},
   "outputs": [],
   "source": [
    "import pandas as pd\n",
    "import datetime"
   ]
  },
  {
   "cell_type": "code",
   "execution_count": 5,
   "metadata": {},
   "outputs": [
    {
     "name": "stdout",
     "output_type": "stream",
     "text": [
      "\n",
      "Oracle DB connection initialized\n",
      "\n"
     ]
    },
    {
     "ename": "TypeError",
     "evalue": "'int' object is not iterable",
     "output_type": "error",
     "traceback": [
      "\u001b[1;31m---------------------------------------------------------------------------\u001b[0m",
      "\u001b[1;31mTypeError\u001b[0m                                 Traceback (most recent call last)",
      "\u001b[1;32m<ipython-input-5-d245ff4f48b4>\u001b[0m in \u001b[0;36m<module>\u001b[1;34m\u001b[0m\n\u001b[0;32m     76\u001b[0m \u001b[1;33m\u001b[0m\u001b[0m\n\u001b[0;32m     77\u001b[0m \u001b[1;33m\u001b[0m\u001b[0m\n\u001b[1;32m---> 78\u001b[1;33m \u001b[0mmain\u001b[0m\u001b[1;33m(\u001b[0m\u001b[1;33m)\u001b[0m\u001b[1;33m\u001b[0m\u001b[1;33m\u001b[0m\u001b[0m\n\u001b[0m",
      "\u001b[1;32m<ipython-input-5-d245ff4f48b4>\u001b[0m in \u001b[0;36mmain\u001b[1;34m()\u001b[0m\n\u001b[0;32m     72\u001b[0m                               and password is not null\"\"\" )\n\u001b[0;32m     73\u001b[0m \u001b[1;33m\u001b[0m\u001b[0m\n\u001b[1;32m---> 74\u001b[1;33m     \u001b[0mdisplaySQLresults\u001b[0m\u001b[1;33m(\u001b[0m \u001b[0mdf\u001b[0m\u001b[1;33m[\u001b[0m\u001b[1;36m0\u001b[0m\u001b[1;33m]\u001b[0m\u001b[1;33m[\u001b[0m\u001b[1;36m0\u001b[0m\u001b[1;33m]\u001b[0m \u001b[1;33m)\u001b[0m\u001b[1;33m\u001b[0m\u001b[1;33m\u001b[0m\u001b[0m\n\u001b[0m\u001b[0;32m     75\u001b[0m \u001b[1;33m\u001b[0m\u001b[0m\n\u001b[0;32m     76\u001b[0m \u001b[1;33m\u001b[0m\u001b[0m\n",
      "\u001b[1;32m<ipython-input-2-4e8e340a2a04>\u001b[0m in \u001b[0;36mdisplaySQLresults\u001b[1;34m(results)\u001b[0m\n\u001b[0;32m     51\u001b[0m \u001b[1;32mdef\u001b[0m \u001b[0mdisplaySQLresults\u001b[0m\u001b[1;33m(\u001b[0m \u001b[0mresults\u001b[0m \u001b[1;33m)\u001b[0m\u001b[1;33m:\u001b[0m\u001b[1;33m\u001b[0m\u001b[1;33m\u001b[0m\u001b[0m\n\u001b[0;32m     52\u001b[0m \u001b[1;33m\u001b[0m\u001b[0m\n\u001b[1;32m---> 53\u001b[1;33m     \u001b[1;32mfor\u001b[0m \u001b[0mrow\u001b[0m \u001b[1;32min\u001b[0m \u001b[0mresults\u001b[0m\u001b[1;33m:\u001b[0m\u001b[1;33m\u001b[0m\u001b[1;33m\u001b[0m\u001b[0m\n\u001b[0m\u001b[0;32m     54\u001b[0m         \u001b[0mprint\u001b[0m\u001b[1;33m(\u001b[0m\u001b[1;34m\"{}\\n\"\u001b[0m\u001b[1;33m.\u001b[0m\u001b[0mformat\u001b[0m\u001b[1;33m(\u001b[0m\u001b[0mrow\u001b[0m\u001b[1;33m)\u001b[0m\u001b[1;33m)\u001b[0m\u001b[1;33m\u001b[0m\u001b[1;33m\u001b[0m\u001b[0m\n\u001b[0;32m     55\u001b[0m \u001b[1;33m\u001b[0m\u001b[0m\n",
      "\u001b[1;31mTypeError\u001b[0m: 'int' object is not iterable"
     ]
    }
   ],
   "source": [
    "# -*- coding: utf-8 -*-\n",
    "\"\"\"\n",
    "Spyder Editor\n",
    "\n",
    "Author: Arno Combrinck\n",
    "Date:   2019-07-27\n",
    "\"\"\"\n",
    "\n",
    "# Symbolic link from /usr/lib64/libnsl.so.2.0.0 to /usr/lib64/libnsl.so.1 required\n",
    "\n",
    "from __future__ import print_function\n",
    "\n",
    "import traceback\n",
    "import os\n",
    "os.chdir(\"C:\\\\Oracle\\\\instantclient_19_3\")\n",
    "\n",
    "import cx_Oracle\n",
    "import sys\n",
    "\n",
    "def connectToOracleDB():\n",
    "    \n",
    "    global connection\n",
    "    global cursor\n",
    "    global username\n",
    "    global password\n",
    "    global host\n",
    "    global service\n",
    "    \n",
    "    try:\n",
    "        \n",
    "        connection = cx_Oracle.connect(username, password, host+\"/\"+service)\n",
    "        \n",
    "        cursor = connection.cursor()\n",
    "        \n",
    "        print(\"\\nOracle DB connection initialized\\n\")\n",
    "        \n",
    "    except Exception as err:\n",
    "        exc_type, exc_value, exc_tb = sys.exc_info()\n",
    "        traceback.print_exception(exc_type, exc_value, exc_tb)\n",
    "        print(\"\\n{}\\n\".format(err))\n",
    "        exit()\n",
    "           \n",
    "def executeSQLquery( sql ):\n",
    "    \n",
    "    global cursor\n",
    "    \n",
    "    cursor.execute( sql )\n",
    "    \n",
    "    return cursor.fetchall()\n",
    "\n",
    "def displaySQLresults( results ):\n",
    "\n",
    "    for row in results:\n",
    "        print(\"{}\\n\".format(row))\n",
    "\n",
    "def main():\n",
    "    global connection\n",
    "    global cursor\n",
    "    global username\n",
    "    global password\n",
    "    global host\n",
    "    global service\n",
    "    \n",
    "    connection = 0\n",
    "    cursor = 0\n",
    "    username = \"PECUTILOTST\"\n",
    "    password = \"PECUTILOTST\"\n",
    "    host = \"dboratst.spsi.co.za\"\n",
    "    service = \"tst\"\n",
    "    \n",
    "    connectToOracleDB()\n",
    "    \n",
    "    df =pd.DataFrame = executeSQLquery( \"\"\"SELECT * FROM ad_user \n",
    "                              where name like '%Raymond%'\n",
    "                              and password is not null\"\"\" )\n",
    "    \n",
    "    displaySQLresults( df[0][0] )\n",
    "    \n",
    "    \n",
    "    \n",
    "main() "
   ]
  },
  {
   "cell_type": "code",
   "execution_count": null,
   "metadata": {},
   "outputs": [],
   "source": [
    "df = pd.read_excel('MeterReadings.xlsx')"
   ]
  },
  {
   "cell_type": "code",
   "execution_count": null,
   "metadata": {},
   "outputs": [],
   "source": [
    "df.head(2)"
   ]
  },
  {
   "cell_type": "code",
   "execution_count": null,
   "metadata": {},
   "outputs": [],
   "source": [
    "df['ENTRY_TIME'].iloc[0].hour"
   ]
  }
 ],
 "metadata": {
  "kernelspec": {
   "display_name": "Python 3",
   "language": "python",
   "name": "python3"
  },
  "language_info": {
   "codemirror_mode": {
    "name": "ipython",
    "version": 3
   },
   "file_extension": ".py",
   "mimetype": "text/x-python",
   "name": "python",
   "nbconvert_exporter": "python",
   "pygments_lexer": "ipython3",
   "version": "3.7.3"
  }
 },
 "nbformat": 4,
 "nbformat_minor": 2
}
