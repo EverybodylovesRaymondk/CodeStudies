{
 "cells": [
  {
   "cell_type": "code",
   "execution_count": 61,
   "metadata": {},
   "outputs": [],
   "source": [
    "import pandas as pd\n",
    "import numpy as np"
   ]
  },
  {
   "cell_type": "markdown",
   "metadata": {},
   "source": [
    "# Importing the data form excel"
   ]
  },
  {
   "cell_type": "code",
   "execution_count": 101,
   "metadata": {},
   "outputs": [
    {
     "data": {
      "text/html": [
       "<div>\n",
       "<style scoped>\n",
       "    .dataframe tbody tr th:only-of-type {\n",
       "        vertical-align: middle;\n",
       "    }\n",
       "\n",
       "    .dataframe tbody tr th {\n",
       "        vertical-align: top;\n",
       "    }\n",
       "\n",
       "    .dataframe thead th {\n",
       "        text-align: right;\n",
       "    }\n",
       "</style>\n",
       "<table border=\"1\" class=\"dataframe\">\n",
       "  <thead>\n",
       "    <tr style=\"text-align: right;\">\n",
       "      <th></th>\n",
       "      <th>ACC</th>\n",
       "      <th>ID</th>\n",
       "      <th>Naam</th>\n",
       "      <th>Graad</th>\n",
       "      <th>KLAS</th>\n",
       "      <th>Sport</th>\n",
       "      <th>Percentage</th>\n",
       "      <th>COACH</th>\n",
       "    </tr>\n",
       "  </thead>\n",
       "  <tbody>\n",
       "    <tr>\n",
       "      <th>0</th>\n",
       "      <td>CO-05</td>\n",
       "      <td>2.031791e+11</td>\n",
       "      <td>MOSHE LENTORO</td>\n",
       "      <td>11</td>\n",
       "      <td>4.0</td>\n",
       "      <td>R7/A</td>\n",
       "      <td>1.0</td>\n",
       "      <td>M</td>\n",
       "    </tr>\n",
       "    <tr>\n",
       "      <th>1</th>\n",
       "      <td>FE-02</td>\n",
       "      <td>5.122057e+11</td>\n",
       "      <td>FERREIRA DANIëL</td>\n",
       "      <td>8</td>\n",
       "      <td>5.0</td>\n",
       "      <td>R7/A</td>\n",
       "      <td>1.0</td>\n",
       "      <td>M</td>\n",
       "    </tr>\n",
       "  </tbody>\n",
       "</table>\n",
       "</div>"
      ],
      "text/plain": [
       "     ACC            ID             Naam  Graad  KLAS Sport  Percentage COACH\n",
       "0  CO-05  2.031791e+11    MOSHE LENTORO     11   4.0  R7/A         1.0     M\n",
       "1  FE-02  5.122057e+11  FERREIRA DANIëL      8   5.0  R7/A         1.0     M"
      ]
     },
     "execution_count": 101,
     "metadata": {},
     "output_type": "execute_result"
    }
   ],
   "source": [
    "BS=pd.DataFrame(pd.read_excel('D:\\\\MA DISCOUNT COVID\\\\BEURSSKEDULE 2020.xlsx'))\n",
    "BS.head(2)"
   ]
  },
  {
   "cell_type": "code",
   "execution_count": 112,
   "metadata": {},
   "outputs": [
    {
     "name": "stdout",
     "output_type": "stream",
     "text": [
      "<class 'pandas.core.frame.DataFrame'>\n",
      "Int64Index: 92 entries, 0 to 152\n",
      "Data columns (total 6 columns):\n",
      "ACC          92 non-null object\n",
      "Naam         92 non-null object\n",
      "Sex          92 non-null object\n",
      "Graad        92 non-null int64\n",
      "Total P/M    92 non-null int64\n",
      "Beurs        0 non-null object\n",
      "dtypes: int64(2), object(4)\n",
      "memory usage: 5.0+ KB\n"
     ]
    }
   ],
   "source": [
    "KSN=pd.DataFrame(pd.read_excel('D:\\\\MA DISCOUNT COVID\\\\KOSHUIS NAAMLYS  2020 (1).xlsx'))\n",
    "KSN=KSN[KSN['Graad']!=12]\n",
    "KSN=KSN[KSN['Beurs'].isnull()]\n",
    "KSN.info()"
   ]
  }
 ],
 "metadata": {
  "kernelspec": {
   "display_name": "Python 3",
   "language": "python",
   "name": "python3"
  },
  "language_info": {
   "codemirror_mode": {
    "name": "ipython",
    "version": 3
   },
   "file_extension": ".py",
   "mimetype": "text/x-python",
   "name": "python",
   "nbconvert_exporter": "python",
   "pygments_lexer": "ipython3",
   "version": "3.7.3"
  }
 },
 "nbformat": 4,
 "nbformat_minor": 2
}
