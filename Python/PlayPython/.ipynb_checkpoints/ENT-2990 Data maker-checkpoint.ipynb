{
 "cells": [
  {
   "cell_type": "code",
   "execution_count": 2,
   "metadata": {},
   "outputs": [],
   "source": [
    "import pandas as pd\n",
    "import numpy as np"
   ]
  },
  {
   "cell_type": "code",
   "execution_count": 3,
   "metadata": {},
   "outputs": [
    {
     "name": "stdout",
     "output_type": "stream",
     "text": [
      "Start Date(yyyy-mm-dd): 2020-01-01\n",
      "End Date(yyyy-mm-dd): 2020-01-05\n",
      "Start reading for month: 5\n",
      "End reading for month: 65\n"
     ]
    }
   ],
   "source": [
    "np.random.seed(0)\n",
    "rng = pd.date_range(start=input('Start Date(yyyy-mm-dd): '),end=input('End Date(yyyy-mm-dd): '), freq='6H')\n",
    "data = np.random.randint(int(input('Start reading for month: ')),int(input('End reading for month: '))+1,size=len(rng))\n",
    "df = pd.DataFrame({ 'DATE_TIME': rng,'READING':data})"
   ]
  },
  {
   "cell_type": "code",
   "execution_count": 5,
   "metadata": {},
   "outputs": [],
   "source": [
    "def max_running():\n",
    "    '''Calculates the max rolling kVa for every line'''\n",
    "    end=0\n",
    "    maxlist=[]\n",
    "    for i in df['READING']:\n",
    "        maxlist.append(df['READING'][0:end].max())\n",
    "        end = end+1\n",
    "    return maxlist"
   ]
  },
  {
   "cell_type": "code",
   "execution_count": 6,
   "metadata": {},
   "outputs": [],
   "source": [
    "df['MAX_RUNNING']=max_running()"
   ]
  },
  {
   "cell_type": "code",
   "execution_count": 7,
   "metadata": {},
   "outputs": [],
   "source": [
    "df['DIFF_TO_BILL']=df['READING']-df['MAX_RUNNING']"
   ]
  },
  {
   "cell_type": "code",
   "execution_count": 8,
   "metadata": {},
   "outputs": [
    {
     "name": "stderr",
     "output_type": "stream",
     "text": [
      "C:\\Users\\raymondk\\AppData\\Local\\Continuum\\anaconda3\\lib\\site-packages\\pandas\\core\\indexing.py:190: SettingWithCopyWarning: \n",
      "A value is trying to be set on a copy of a slice from a DataFrame\n",
      "\n",
      "See the caveats in the documentation: http://pandas.pydata.org/pandas-docs/stable/indexing.html#indexing-view-versus-copy\n",
      "  self._setitem_with_indexer(indexer, value)\n"
     ]
    },
    {
     "data": {
      "text/html": [
       "<div>\n",
       "<style scoped>\n",
       "    .dataframe tbody tr th:only-of-type {\n",
       "        vertical-align: middle;\n",
       "    }\n",
       "\n",
       "    .dataframe tbody tr th {\n",
       "        vertical-align: top;\n",
       "    }\n",
       "\n",
       "    .dataframe thead th {\n",
       "        text-align: right;\n",
       "    }\n",
       "</style>\n",
       "<table border=\"1\" class=\"dataframe\">\n",
       "  <thead>\n",
       "    <tr style=\"text-align: right;\">\n",
       "      <th></th>\n",
       "      <th>DATE_TIME</th>\n",
       "      <th>READING</th>\n",
       "      <th>MAX_RUNNING</th>\n",
       "      <th>DIFF_TO_BILL</th>\n",
       "    </tr>\n",
       "  </thead>\n",
       "  <tbody>\n",
       "    <tr>\n",
       "      <th>0</th>\n",
       "      <td>2020-01-01 00:00:00</td>\n",
       "      <td>49</td>\n",
       "      <td>NaN</td>\n",
       "      <td>NaN</td>\n",
       "    </tr>\n",
       "    <tr>\n",
       "      <th>1</th>\n",
       "      <td>2020-01-01 06:00:00</td>\n",
       "      <td>52</td>\n",
       "      <td>49.0</td>\n",
       "      <td>3.0</td>\n",
       "    </tr>\n",
       "    <tr>\n",
       "      <th>2</th>\n",
       "      <td>2020-01-01 12:00:00</td>\n",
       "      <td>58</td>\n",
       "      <td>52.0</td>\n",
       "      <td>6.0</td>\n",
       "    </tr>\n",
       "    <tr>\n",
       "      <th>3</th>\n",
       "      <td>2020-01-01 18:00:00</td>\n",
       "      <td>5</td>\n",
       "      <td>58.0</td>\n",
       "      <td>0.0</td>\n",
       "    </tr>\n",
       "    <tr>\n",
       "      <th>4</th>\n",
       "      <td>2020-01-02 00:00:00</td>\n",
       "      <td>8</td>\n",
       "      <td>58.0</td>\n",
       "      <td>0.0</td>\n",
       "    </tr>\n",
       "    <tr>\n",
       "      <th>5</th>\n",
       "      <td>2020-01-02 06:00:00</td>\n",
       "      <td>64</td>\n",
       "      <td>58.0</td>\n",
       "      <td>6.0</td>\n",
       "    </tr>\n",
       "    <tr>\n",
       "      <th>6</th>\n",
       "      <td>2020-01-02 12:00:00</td>\n",
       "      <td>8</td>\n",
       "      <td>64.0</td>\n",
       "      <td>0.0</td>\n",
       "    </tr>\n",
       "    <tr>\n",
       "      <th>7</th>\n",
       "      <td>2020-01-02 18:00:00</td>\n",
       "      <td>44</td>\n",
       "      <td>64.0</td>\n",
       "      <td>0.0</td>\n",
       "    </tr>\n",
       "    <tr>\n",
       "      <th>8</th>\n",
       "      <td>2020-01-03 00:00:00</td>\n",
       "      <td>14</td>\n",
       "      <td>64.0</td>\n",
       "      <td>0.0</td>\n",
       "    </tr>\n",
       "    <tr>\n",
       "      <th>9</th>\n",
       "      <td>2020-01-03 06:00:00</td>\n",
       "      <td>24</td>\n",
       "      <td>64.0</td>\n",
       "      <td>0.0</td>\n",
       "    </tr>\n",
       "    <tr>\n",
       "      <th>10</th>\n",
       "      <td>2020-01-03 12:00:00</td>\n",
       "      <td>26</td>\n",
       "      <td>64.0</td>\n",
       "      <td>0.0</td>\n",
       "    </tr>\n",
       "  </tbody>\n",
       "</table>\n",
       "</div>"
      ],
      "text/plain": [
       "             DATE_TIME  READING  MAX_RUNNING  DIFF_TO_BILL\n",
       "0  2020-01-01 00:00:00       49          NaN           NaN\n",
       "1  2020-01-01 06:00:00       52         49.0           3.0\n",
       "2  2020-01-01 12:00:00       58         52.0           6.0\n",
       "3  2020-01-01 18:00:00        5         58.0           0.0\n",
       "4  2020-01-02 00:00:00        8         58.0           0.0\n",
       "5  2020-01-02 06:00:00       64         58.0           6.0\n",
       "6  2020-01-02 12:00:00        8         64.0           0.0\n",
       "7  2020-01-02 18:00:00       44         64.0           0.0\n",
       "8  2020-01-03 00:00:00       14         64.0           0.0\n",
       "9  2020-01-03 06:00:00       24         64.0           0.0\n",
       "10 2020-01-03 12:00:00       26         64.0           0.0"
      ]
     },
     "execution_count": 8,
     "metadata": {},
     "output_type": "execute_result"
    }
   ],
   "source": [
    "df['DIFF_TO_BILL'].loc[(df['DIFF_TO_BILL'] < 0)] = 0\n",
    "#df.head(11)"
   ]
  },
  {
   "cell_type": "code",
   "execution_count": 9,
   "metadata": {},
   "outputs": [],
   "source": [
    "df.to_excel('Date_Range.xlsx',index=False)\n",
    "print('Generation completed')"
   ]
  }
 ],
 "metadata": {
  "kernelspec": {
   "display_name": "Python 3",
   "language": "python",
   "name": "python3"
  },
  "language_info": {
   "codemirror_mode": {
    "name": "ipython",
    "version": 3
   },
   "file_extension": ".py",
   "mimetype": "text/x-python",
   "name": "python",
   "nbconvert_exporter": "python",
   "pygments_lexer": "ipython3",
   "version": "3.7.3"
  }
 },
 "nbformat": 4,
 "nbformat_minor": 2
}
