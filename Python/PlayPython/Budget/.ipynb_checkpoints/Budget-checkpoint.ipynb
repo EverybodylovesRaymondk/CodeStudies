{
 "cells": [
  {
   "cell_type": "markdown",
   "metadata": {},
   "source": [
    "# Importing Modules"
   ]
  },
  {
   "cell_type": "code",
   "execution_count": null,
   "metadata": {},
   "outputs": [],
   "source": [
    "import pandas as pd\n",
    "import numpy as np\n",
    "from datetime import datetime"
   ]
  },
  {
   "cell_type": "code",
   "execution_count": null,
   "metadata": {},
   "outputs": [],
   "source": [
    "transactions = pd.read_excel('Transactions.xlsx')\n",
    "transactions.head()"
   ]
  },
  {
   "cell_type": "code",
   "execution_count": null,
   "metadata": {},
   "outputs": [],
   "source": [
    "Add_Expense = input('Add to transactions? ')"
   ]
  },
  {
   "cell_type": "code",
   "execution_count": null,
   "metadata": {},
   "outputs": [],
   "source": [
    "def add_transaction():\n",
    "    if(Add_Expense.lower()=='yes'):\n",
    "        Date = datetime.strptime(input('Date:'),\"%Y-%m-%d\")\n",
    "        Description = input('Desc: ')\n",
    "        Type = input('Type: ')\n",
    "        Amount = float(input('Amount:R  '))\n",
    "        transactions_new = transactions.append({'Date':Date,'Description':Description,'Type':Type,'Amount':Amount},ignore_index=True)\n",
    "        #transactions.to_excel('Transactions.xlsx')\n",
    "        print('Updated')\n",
    "        return transactions_new\n",
    "    else:\n",
    "        return transactions\n",
    "                             "
   ]
  },
  {
   "cell_type": "code",
   "execution_count": null,
   "metadata": {},
   "outputs": [],
   "source": [
    "transactions = add_transaction()\n",
    "transactions.to_excel('Transactions.xlsx',index=False)\n",
    "transactions"
   ]
  },
  {
   "cell_type": "code",
   "execution_count": null,
   "metadata": {},
   "outputs": [],
   "source": []
  }
 ],
 "metadata": {
  "kernelspec": {
   "display_name": "Python 3",
   "language": "python",
   "name": "python3"
  }
 },
 "nbformat": 4,
 "nbformat_minor": 2
}
