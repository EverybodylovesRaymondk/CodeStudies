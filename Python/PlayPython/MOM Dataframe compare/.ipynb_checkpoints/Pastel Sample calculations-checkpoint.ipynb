{
 "cells": [
  {
   "cell_type": "code",
   "execution_count": 4,
   "metadata": {},
   "outputs": [],
   "source": [
    "import pandas as pd\n",
    "import numpy as np"
   ]
  },
  {
   "cell_type": "markdown",
   "metadata": {},
   "source": [
    "# Importing the data form excel"
   ]
  },
  {
   "cell_type": "code",
   "execution_count": 17,
   "metadata": {},
   "outputs": [
    {
     "data": {
      "text/html": [
       "<div>\n",
       "<style scoped>\n",
       "    .dataframe tbody tr th:only-of-type {\n",
       "        vertical-align: middle;\n",
       "    }\n",
       "\n",
       "    .dataframe tbody tr th {\n",
       "        vertical-align: top;\n",
       "    }\n",
       "\n",
       "    .dataframe thead th {\n",
       "        text-align: right;\n",
       "    }\n",
       "</style>\n",
       "<table border=\"1\" class=\"dataframe\">\n",
       "  <thead>\n",
       "    <tr style=\"text-align: right;\">\n",
       "      <th></th>\n",
       "      <th>ACC</th>\n",
       "      <th>ID</th>\n",
       "      <th>Naam</th>\n",
       "      <th>Graad</th>\n",
       "      <th>KLAS</th>\n",
       "      <th>Sport</th>\n",
       "      <th>Percentage</th>\n",
       "      <th>COACH</th>\n",
       "    </tr>\n",
       "  </thead>\n",
       "  <tbody>\n",
       "    <tr>\n",
       "      <th>0</th>\n",
       "      <td>CO-05</td>\n",
       "      <td>2.031791e+11</td>\n",
       "      <td>MOSHE LENTORO</td>\n",
       "      <td>11</td>\n",
       "      <td>4.0</td>\n",
       "      <td>R7/A</td>\n",
       "      <td>1.0</td>\n",
       "      <td>M</td>\n",
       "    </tr>\n",
       "    <tr>\n",
       "      <th>1</th>\n",
       "      <td>FE-02</td>\n",
       "      <td>5.122057e+11</td>\n",
       "      <td>FERREIRA DANIëL</td>\n",
       "      <td>8</td>\n",
       "      <td>5.0</td>\n",
       "      <td>R7/A</td>\n",
       "      <td>1.0</td>\n",
       "      <td>M</td>\n",
       "    </tr>\n",
       "  </tbody>\n",
       "</table>\n",
       "</div>"
      ],
      "text/plain": [
       "     ACC            ID             Naam  Graad  KLAS Sport  Percentage COACH\n",
       "0  CO-05  2.031791e+11    MOSHE LENTORO     11   4.0  R7/A         1.0     M\n",
       "1  FE-02  5.122057e+11  FERREIRA DANIëL      8   5.0  R7/A         1.0     M"
      ]
     },
     "execution_count": 17,
     "metadata": {},
     "output_type": "execute_result"
    }
   ],
   "source": [
    "BS=pd.DataFrame(pd.read_excel('D:\\\\MA DISCOUNT COVID\\\\BEURSSKEDULE 2020.xlsx'))\n",
    "BS.head(2)"
   ]
  },
  {
   "cell_type": "code",
   "execution_count": 18,
   "metadata": {},
   "outputs": [
    {
     "data": {
      "text/html": [
       "<div>\n",
       "<style scoped>\n",
       "    .dataframe tbody tr th:only-of-type {\n",
       "        vertical-align: middle;\n",
       "    }\n",
       "\n",
       "    .dataframe tbody tr th {\n",
       "        vertical-align: top;\n",
       "    }\n",
       "\n",
       "    .dataframe thead th {\n",
       "        text-align: right;\n",
       "    }\n",
       "</style>\n",
       "<table border=\"1\" class=\"dataframe\">\n",
       "  <thead>\n",
       "    <tr style=\"text-align: right;\">\n",
       "      <th></th>\n",
       "      <th>ACC</th>\n",
       "      <th>Naam</th>\n",
       "      <th>Sex</th>\n",
       "      <th>Graad</th>\n",
       "      <th>Total P/M</th>\n",
       "    </tr>\n",
       "  </thead>\n",
       "  <tbody>\n",
       "    <tr>\n",
       "      <th>0</th>\n",
       "      <td>BA-32</td>\n",
       "      <td>Banger Yogan</td>\n",
       "      <td>D</td>\n",
       "      <td>11</td>\n",
       "      <td>2725</td>\n",
       "    </tr>\n",
       "    <tr>\n",
       "      <th>1</th>\n",
       "      <td>BA-37</td>\n",
       "      <td>Banda Chantel</td>\n",
       "      <td>D</td>\n",
       "      <td>11</td>\n",
       "      <td>2725</td>\n",
       "    </tr>\n",
       "  </tbody>\n",
       "</table>\n",
       "</div>"
      ],
      "text/plain": [
       "     ACC           Naam Sex  Graad  Total P/M\n",
       "0  BA-32   Banger Yogan   D     11       2725\n",
       "1  BA-37  Banda Chantel   D     11       2725"
      ]
     },
     "execution_count": 18,
     "metadata": {},
     "output_type": "execute_result"
    }
   ],
   "source": [
    "KSN=pd.DataFrame(pd.read_excel('D:\\\\MA DISCOUNT COVID\\\\KOSHUIS NAAMLYS  2020 (1).xlsx'))\n",
    "KSN.head(2)"
   ]
  },
  {
   "cell_type": "code",
   "execution_count": 39,
   "metadata": {},
   "outputs": [],
   "source": [
    "def multiply(x):\n",
    "    for i in x:\n",
    "        return x * 2\n",
    "    return i"
   ]
  },
  {
   "cell_type": "code",
   "execution_count": null,
   "metadata": {},
   "outputs": [],
   "source": []
  },
  {
   "cell_type": "code",
   "execution_count": null,
   "metadata": {},
   "outputs": [],
   "source": []
  }
 ],
 "metadata": {
  "kernelspec": {
   "display_name": "Python 3",
   "language": "python",
   "name": "python3"
  },
  "language_info": {
   "codemirror_mode": {
    "name": "ipython",
    "version": 3
   },
   "file_extension": ".py",
   "mimetype": "text/x-python",
   "name": "python",
   "nbconvert_exporter": "python",
   "pygments_lexer": "ipython3",
   "version": "3.7.3"
  }
 },
 "nbformat": 4,
 "nbformat_minor": 2
}
