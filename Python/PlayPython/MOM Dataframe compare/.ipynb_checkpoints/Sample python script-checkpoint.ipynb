{
 "cells": [
  {
   "cell_type": "code",
   "execution_count": 89,
   "metadata": {},
   "outputs": [],
   "source": [
    "import pandas as pd"
   ]
  },
  {
   "cell_type": "markdown",
   "metadata": {},
   "source": [
    "# Importing the data form excel"
   ]
  },
  {
   "cell_type": "code",
   "execution_count": 90,
   "metadata": {},
   "outputs": [],
   "source": [
    "J=pd.DataFrame(pd.read_excel('Jannie.xlsx'))"
   ]
  },
  {
   "cell_type": "code",
   "execution_count": 91,
   "metadata": {},
   "outputs": [],
   "source": [
    "P=pd.DataFrame(pd.read_excel('Pastel.xlsx'))"
   ]
  },
  {
   "cell_type": "markdown",
   "metadata": {},
   "source": [
    "# Bringing in the Pastel number of kids per family code\n",
    "### Output will populate record where a family code match could not be made"
   ]
  },
  {
   "cell_type": "code",
   "execution_count": 92,
   "metadata": {},
   "outputs": [
    {
     "data": {
      "text/html": [
       "<div>\n",
       "<style scoped>\n",
       "    .dataframe tbody tr th:only-of-type {\n",
       "        vertical-align: middle;\n",
       "    }\n",
       "\n",
       "    .dataframe tbody tr th {\n",
       "        vertical-align: top;\n",
       "    }\n",
       "\n",
       "    .dataframe thead th {\n",
       "        text-align: right;\n",
       "    }\n",
       "</style>\n",
       "<table border=\"1\" class=\"dataframe\">\n",
       "  <thead>\n",
       "    <tr style=\"text-align: right;\">\n",
       "      <th></th>\n",
       "      <th>Van</th>\n",
       "      <th>Family Code</th>\n",
       "      <th>Nr of kids</th>\n",
       "      <th>amount</th>\n",
       "      <th>Pastel NR Kids</th>\n",
       "      <th>Pastel amount</th>\n",
       "    </tr>\n",
       "  </thead>\n",
       "  <tbody>\n",
       "  </tbody>\n",
       "</table>\n",
       "</div>"
      ],
      "text/plain": [
       "Empty DataFrame\n",
       "Columns: [Van, Family Code, Nr of kids, amount, Pastel NR Kids, Pastel amount]\n",
       "Index: []"
      ]
     },
     "execution_count": 92,
     "metadata": {},
     "output_type": "execute_result"
    }
   ],
   "source": [
    "J['Pastel NR Kids']=P[P['Family code']==J['Family Code']]['No of Kids']\n",
    "J['Pastel amount']=P[P['Family code']==J['Family Code']]['Heffing']\n",
    "J[J['Pastel amount'].isna()]"
   ]
  },
  {
   "cell_type": "markdown",
   "metadata": {},
   "source": [
    "# Calculating the differences between the pastel number of kids and Janie"
   ]
  },
  {
   "cell_type": "code",
   "execution_count": 93,
   "metadata": {},
   "outputs": [],
   "source": [
    "J['Difference in Number of kids']=J['Pastel NR Kids']-J['Nr of kids']"
   ]
  },
  {
   "cell_type": "markdown",
   "metadata": {},
   "source": [
    "# Defining a function to show if the difference is in the number of kids is more or less than that of Pastel"
   ]
  },
  {
   "cell_type": "code",
   "execution_count": 94,
   "metadata": {},
   "outputs": [],
   "source": [
    "def analysisNRKids(x):\n",
    "    '''This function takes the difference in number of kids and determines \n",
    "    if Janie has more or less or the same number of kids than Pastel'''\n",
    "    for i in x:\n",
    "        \"\"\"check if number is even\"\"\"\n",
    "        if i <0:\n",
    "            #return 'Positive'\n",
    "            return(\"Janie has {} more kids than Pastel\".format(abs(int(i))))\n",
    "        \n",
    "        elif i >0:\n",
    "            #return 'negative'\n",
    "            return (\"Janie has {} less kids than Pastel\".format(abs(int(i))))\n",
    "        elif i == i :\n",
    "            return ('Number of kids are the same')\n",
    "        else:\n",
    "            return 'Please confirm import data'\n"
   ]
  },
  {
   "cell_type": "code",
   "execution_count": 95,
   "metadata": {},
   "outputs": [
    {
     "data": {
      "text/html": [
       "<div>\n",
       "<style scoped>\n",
       "    .dataframe tbody tr th:only-of-type {\n",
       "        vertical-align: middle;\n",
       "    }\n",
       "\n",
       "    .dataframe tbody tr th {\n",
       "        vertical-align: top;\n",
       "    }\n",
       "\n",
       "    .dataframe thead th {\n",
       "        text-align: right;\n",
       "    }\n",
       "</style>\n",
       "<table border=\"1\" class=\"dataframe\">\n",
       "  <thead>\n",
       "    <tr style=\"text-align: right;\">\n",
       "      <th></th>\n",
       "      <th>Van</th>\n",
       "      <th>Family Code</th>\n",
       "      <th>Nr of kids</th>\n",
       "      <th>amount</th>\n",
       "      <th>Pastel NR Kids</th>\n",
       "      <th>Pastel amount</th>\n",
       "      <th>Number of kids Analysis</th>\n",
       "    </tr>\n",
       "  </thead>\n",
       "  <tbody>\n",
       "    <tr>\n",
       "      <th>0</th>\n",
       "      <td>Kriel</td>\n",
       "      <td>K58</td>\n",
       "      <td>5</td>\n",
       "      <td>30</td>\n",
       "      <td>5</td>\n",
       "      <td>25</td>\n",
       "      <td>Number of kids are the same</td>\n",
       "    </tr>\n",
       "    <tr>\n",
       "      <th>1</th>\n",
       "      <td>Spies</td>\n",
       "      <td>S89</td>\n",
       "      <td>1</td>\n",
       "      <td>6</td>\n",
       "      <td>12</td>\n",
       "      <td>60</td>\n",
       "      <td>Janie has 11 less kids than Pastel</td>\n",
       "    </tr>\n",
       "    <tr>\n",
       "      <th>2</th>\n",
       "      <td>Tenus</td>\n",
       "      <td>T12</td>\n",
       "      <td>5</td>\n",
       "      <td>30</td>\n",
       "      <td>3</td>\n",
       "      <td>15</td>\n",
       "      <td>Janie has 2 more kids than Pastel</td>\n",
       "    </tr>\n",
       "    <tr>\n",
       "      <th>3</th>\n",
       "      <td>Spark</td>\n",
       "      <td>S890</td>\n",
       "      <td>6</td>\n",
       "      <td>36</td>\n",
       "      <td>4</td>\n",
       "      <td>20</td>\n",
       "      <td>Janie has 2 more kids than Pastel</td>\n",
       "    </tr>\n",
       "    <tr>\n",
       "      <th>4</th>\n",
       "      <td>Yves</td>\n",
       "      <td>y89</td>\n",
       "      <td>4</td>\n",
       "      <td>24</td>\n",
       "      <td>8</td>\n",
       "      <td>40</td>\n",
       "      <td>Janie has 4 less kids than Pastel</td>\n",
       "    </tr>\n",
       "    <tr>\n",
       "      <th>5</th>\n",
       "      <td>Joubert</td>\n",
       "      <td>J890-980</td>\n",
       "      <td>6</td>\n",
       "      <td>36</td>\n",
       "      <td>10</td>\n",
       "      <td>50</td>\n",
       "      <td>Janie has 4 less kids than Pastel</td>\n",
       "    </tr>\n",
       "  </tbody>\n",
       "</table>\n",
       "</div>"
      ],
      "text/plain": [
       "       Van Family Code  Nr of kids  amount  Pastel NR Kids  Pastel amount  \\\n",
       "0    Kriel         K58           5      30               5             25   \n",
       "1    Spies         S89           1       6              12             60   \n",
       "2    Tenus         T12           5      30               3             15   \n",
       "3    Spark        S890           6      36               4             20   \n",
       "4     Yves         y89           4      24               8             40   \n",
       "5  Joubert    J890-980           6      36              10             50   \n",
       "\n",
       "              Number of kids Analysis  \n",
       "0         Number of kids are the same  \n",
       "1  Janie has 11 less kids than Pastel  \n",
       "2   Janie has 2 more kids than Pastel  \n",
       "3   Janie has 2 more kids than Pastel  \n",
       "4   Janie has 4 less kids than Pastel  \n",
       "5   Janie has 4 less kids than Pastel  "
      ]
     },
     "execution_count": 95,
     "metadata": {},
     "output_type": "execute_result"
    }
   ],
   "source": [
    "J['Number of kids Analysis']=J['Difference in Number of kids'].apply(lambda x : analysisNRKids([x]))\n",
    "J[['Van','Family Code','Nr of kids','amount','Pastel NR Kids','Pastel amount','Number of kids Analysis']]"
   ]
  },
  {
   "cell_type": "code",
   "execution_count": 96,
   "metadata": {},
   "outputs": [
    {
     "name": "stdout",
     "output_type": "stream",
     "text": [
      "Koshuis ekstra:R 70.5\n"
     ]
    }
   ],
   "source": [
    "Koshuis = float(input('Koshuis ekstra:R '))"
   ]
  },
  {
   "cell_type": "code",
   "execution_count": 98,
   "metadata": {},
   "outputs": [
    {
     "data": {
      "text/html": [
       "<div>\n",
       "<style scoped>\n",
       "    .dataframe tbody tr th:only-of-type {\n",
       "        vertical-align: middle;\n",
       "    }\n",
       "\n",
       "    .dataframe tbody tr th {\n",
       "        vertical-align: top;\n",
       "    }\n",
       "\n",
       "    .dataframe thead th {\n",
       "        text-align: right;\n",
       "    }\n",
       "</style>\n",
       "<table border=\"1\" class=\"dataframe\">\n",
       "  <thead>\n",
       "    <tr style=\"text-align: right;\">\n",
       "      <th></th>\n",
       "      <th>Van</th>\n",
       "      <th>Family Code</th>\n",
       "      <th>Nr of kids</th>\n",
       "      <th>amount</th>\n",
       "      <th>Pastel NR Kids</th>\n",
       "      <th>Pastel amount</th>\n",
       "      <th>Koshuis total</th>\n",
       "      <th>Number of kids Analysis</th>\n",
       "    </tr>\n",
       "  </thead>\n",
       "  <tbody>\n",
       "    <tr>\n",
       "      <th>0</th>\n",
       "      <td>Kriel</td>\n",
       "      <td>K58</td>\n",
       "      <td>5</td>\n",
       "      <td>30</td>\n",
       "      <td>5</td>\n",
       "      <td>25</td>\n",
       "      <td>8812.5</td>\n",
       "      <td>Number of kids are the same</td>\n",
       "    </tr>\n",
       "    <tr>\n",
       "      <th>1</th>\n",
       "      <td>Spies</td>\n",
       "      <td>S89</td>\n",
       "      <td>1</td>\n",
       "      <td>6</td>\n",
       "      <td>12</td>\n",
       "      <td>60</td>\n",
       "      <td>50760.0</td>\n",
       "      <td>Janie has 11 less kids than Pastel</td>\n",
       "    </tr>\n",
       "    <tr>\n",
       "      <th>2</th>\n",
       "      <td>Tenus</td>\n",
       "      <td>T12</td>\n",
       "      <td>5</td>\n",
       "      <td>30</td>\n",
       "      <td>3</td>\n",
       "      <td>15</td>\n",
       "      <td>3172.5</td>\n",
       "      <td>Janie has 2 more kids than Pastel</td>\n",
       "    </tr>\n",
       "    <tr>\n",
       "      <th>3</th>\n",
       "      <td>Spark</td>\n",
       "      <td>S890</td>\n",
       "      <td>6</td>\n",
       "      <td>36</td>\n",
       "      <td>4</td>\n",
       "      <td>20</td>\n",
       "      <td>5640.0</td>\n",
       "      <td>Janie has 2 more kids than Pastel</td>\n",
       "    </tr>\n",
       "    <tr>\n",
       "      <th>4</th>\n",
       "      <td>Yves</td>\n",
       "      <td>y89</td>\n",
       "      <td>4</td>\n",
       "      <td>24</td>\n",
       "      <td>8</td>\n",
       "      <td>40</td>\n",
       "      <td>22560.0</td>\n",
       "      <td>Janie has 4 less kids than Pastel</td>\n",
       "    </tr>\n",
       "    <tr>\n",
       "      <th>5</th>\n",
       "      <td>Joubert</td>\n",
       "      <td>J890-980</td>\n",
       "      <td>6</td>\n",
       "      <td>36</td>\n",
       "      <td>10</td>\n",
       "      <td>50</td>\n",
       "      <td>35250.0</td>\n",
       "      <td>Janie has 4 less kids than Pastel</td>\n",
       "    </tr>\n",
       "  </tbody>\n",
       "</table>\n",
       "</div>"
      ],
      "text/plain": [
       "       Van Family Code  Nr of kids  amount  Pastel NR Kids  Pastel amount  \\\n",
       "0    Kriel         K58           5      30               5             25   \n",
       "1    Spies         S89           1       6              12             60   \n",
       "2    Tenus         T12           5      30               3             15   \n",
       "3    Spark        S890           6      36               4             20   \n",
       "4     Yves         y89           4      24               8             40   \n",
       "5  Joubert    J890-980           6      36              10             50   \n",
       "\n",
       "   Koshuis total             Number of kids Analysis  \n",
       "0         8812.5         Number of kids are the same  \n",
       "1        50760.0  Janie has 11 less kids than Pastel  \n",
       "2         3172.5   Janie has 2 more kids than Pastel  \n",
       "3         5640.0   Janie has 2 more kids than Pastel  \n",
       "4        22560.0   Janie has 4 less kids than Pastel  \n",
       "5        35250.0   Janie has 4 less kids than Pastel  "
      ]
     },
     "execution_count": 98,
     "metadata": {},
     "output_type": "execute_result"
    }
   ],
   "source": [
    "J['Koshuis total']=J['Pastel NR Kids']*J['Pastel amount']*Koshuis\n",
    "Final = J[['Van','Family Code','Nr of kids','amount','Pastel NR Kids','Pastel amount','Koshuis total','Number of kids Analysis']]\n",
    "Final.to_excel('Final.xlsx',index=False)\n",
    "Final"
   ]
  }
 ],
 "metadata": {
  "kernelspec": {
   "display_name": "Python 3",
   "language": "python",
   "name": "python3"
  },
  "language_info": {
   "codemirror_mode": {
    "name": "ipython",
    "version": 3
   },
   "file_extension": ".py",
   "mimetype": "text/x-python",
   "name": "python",
   "nbconvert_exporter": "python",
   "pygments_lexer": "ipython3",
   "version": "3.7.3"
  }
 },
 "nbformat": 4,
 "nbformat_minor": 2
}
