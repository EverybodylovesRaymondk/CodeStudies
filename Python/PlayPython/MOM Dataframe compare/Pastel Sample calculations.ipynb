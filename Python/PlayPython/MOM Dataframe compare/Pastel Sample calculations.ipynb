{
 "cells": [
  {
   "cell_type": "code",
   "execution_count": 4,
   "metadata": {},
   "outputs": [],
   "source": [
    "import pandas as pd\n",
    "import numpy as np"
   ]
  },
  {
   "cell_type": "markdown",
   "metadata": {},
   "source": [
    "# Importing the data form excel"
   ]
  },
  {
   "cell_type": "code",
   "execution_count": 71,
   "metadata": {},
   "outputs": [
    {
     "data": {
      "text/html": [
       "<div>\n",
       "<style scoped>\n",
       "    .dataframe tbody tr th:only-of-type {\n",
       "        vertical-align: middle;\n",
       "    }\n",
       "\n",
       "    .dataframe tbody tr th {\n",
       "        vertical-align: top;\n",
       "    }\n",
       "\n",
       "    .dataframe thead th {\n",
       "        text-align: right;\n",
       "    }\n",
       "</style>\n",
       "<table border=\"1\" class=\"dataframe\">\n",
       "  <thead>\n",
       "    <tr style=\"text-align: right;\">\n",
       "      <th></th>\n",
       "      <th>ACC</th>\n",
       "      <th>ID</th>\n",
       "      <th>Naam</th>\n",
       "      <th>Graad</th>\n",
       "      <th>KLAS</th>\n",
       "      <th>Sport</th>\n",
       "      <th>Percentage</th>\n",
       "      <th>COACH</th>\n",
       "    </tr>\n",
       "  </thead>\n",
       "  <tbody>\n",
       "    <tr>\n",
       "      <th>0</th>\n",
       "      <td>CO-05</td>\n",
       "      <td>2.031791e+11</td>\n",
       "      <td>MOSHE LENTORO</td>\n",
       "      <td>11</td>\n",
       "      <td>4.0</td>\n",
       "      <td>R7/A</td>\n",
       "      <td>1.0</td>\n",
       "      <td>M</td>\n",
       "    </tr>\n",
       "    <tr>\n",
       "      <th>1</th>\n",
       "      <td>FE-02</td>\n",
       "      <td>5.122057e+11</td>\n",
       "      <td>FERREIRA DANIëL</td>\n",
       "      <td>8</td>\n",
       "      <td>5.0</td>\n",
       "      <td>R7/A</td>\n",
       "      <td>1.0</td>\n",
       "      <td>M</td>\n",
       "    </tr>\n",
       "  </tbody>\n",
       "</table>\n",
       "</div>"
      ],
      "text/plain": [
       "     ACC            ID             Naam  Graad  KLAS Sport  Percentage COACH\n",
       "0  CO-05  2.031791e+11    MOSHE LENTORO     11   4.0  R7/A         1.0     M\n",
       "1  FE-02  5.122057e+11  FERREIRA DANIëL      8   5.0  R7/A         1.0     M"
      ]
     },
     "execution_count": 71,
     "metadata": {},
     "output_type": "execute_result"
    }
   ],
   "source": [
    "BS=pd.DataFrame(pd.read_excel('D:\\\\MA DISCOUNT COVID\\\\BEURSSKEDULE 2020.xlsx'))\n",
    "BS.head(2)"
   ]
  },
  {
   "cell_type": "code",
   "execution_count": 73,
   "metadata": {},
   "outputs": [
    {
     "data": {
      "text/html": [
       "<div>\n",
       "<style scoped>\n",
       "    .dataframe tbody tr th:only-of-type {\n",
       "        vertical-align: middle;\n",
       "    }\n",
       "\n",
       "    .dataframe tbody tr th {\n",
       "        vertical-align: top;\n",
       "    }\n",
       "\n",
       "    .dataframe thead th {\n",
       "        text-align: right;\n",
       "    }\n",
       "</style>\n",
       "<table border=\"1\" class=\"dataframe\">\n",
       "  <thead>\n",
       "    <tr style=\"text-align: right;\">\n",
       "      <th></th>\n",
       "      <th>ACC</th>\n",
       "      <th>Naam</th>\n",
       "      <th>Sex</th>\n",
       "      <th>Graad</th>\n",
       "      <th>Total P/M</th>\n",
       "    </tr>\n",
       "  </thead>\n",
       "  <tbody>\n",
       "    <tr>\n",
       "      <th>0</th>\n",
       "      <td>BA-32</td>\n",
       "      <td>Banger Yogan</td>\n",
       "      <td>D</td>\n",
       "      <td>11</td>\n",
       "      <td>2725</td>\n",
       "    </tr>\n",
       "    <tr>\n",
       "      <th>1</th>\n",
       "      <td>BA-37</td>\n",
       "      <td>Banda Chantel</td>\n",
       "      <td>D</td>\n",
       "      <td>11</td>\n",
       "      <td>2725</td>\n",
       "    </tr>\n",
       "  </tbody>\n",
       "</table>\n",
       "</div>"
      ],
      "text/plain": [
       "     ACC           Naam Sex  Graad  Total P/M\n",
       "0  BA-32   Banger Yogan   D     11       2725\n",
       "1  BA-37  Banda Chantel   D     11       2725"
      ]
     },
     "execution_count": 73,
     "metadata": {},
     "output_type": "execute_result"
    }
   ],
   "source": [
    "KSN=pd.DataFrame(pd.read_excel('D:\\\\MA DISCOUNT COVID\\\\KOSHUIS NAAMLYS  2020 (1).xlsx'))\n",
    "KSN.head(2)"
   ]
  },
  {
   "cell_type": "code",
   "execution_count": 86,
   "metadata": {},
   "outputs": [],
   "source": [
    "koshuis=KSN['ACC'].unique()\n",
    "\n",
    "skool =BS['ACC'].unique()"
   ]
  },
  {
   "cell_type": "code",
   "execution_count": 88,
   "metadata": {},
   "outputs": [
    {
     "data": {
      "text/plain": [
       "array(['CO-05', 'FE-02', 'FI-02', 'G97', 'HO-04', 'HO-07', 'JA-05',\n",
       "       'JU-02', 'LO-08', 'MA-211', 'MA-222', 'MA-232', 'MA-270', 'MA-274',\n",
       "       'MA-275', 'MA-283', 'MA-284', 'MA-301', 'MA-308', 'MA-309',\n",
       "       'MA-327', 'MB-23', 'MH-19', 'MK-19', 'ML-14', 'MN-36', 'MO-64',\n",
       "       'MO-65', 'MO-68', 'ND-13', 'ND-15', 'ND-19', 'NK-31', 'NK-42',\n",
       "       'NY-17', 'OS-01', 'PU-04', 'RA-15', 'RA-16', 'MH-15', 'MT-13'],\n",
       "      dtype=object)"
      ]
     },
     "execution_count": 88,
     "metadata": {},
     "output_type": "execute_result"
    }
   ],
   "source": [
    "skool"
   ]
  },
  {
   "cell_type": "code",
   "execution_count": 89,
   "metadata": {},
   "outputs": [],
   "source": [
    "def Hostal(X):\n",
    "    for i in skool:\n",
    "        if i in koshuis:\n",
    "            print(\"Hostal\")\n",
    "        else:\n",
    "            print(\"Not Hostal\")\n",
    "\n",
    "    return i"
   ]
  },
  {
   "cell_type": "code",
   "execution_count": 90,
   "metadata": {},
   "outputs": [
    {
     "name": "stdout",
     "output_type": "stream",
     "text": [
      "Hostal\n",
      "Hostal\n",
      "Hostal\n",
      "Hostal\n",
      "Hostal\n",
      "Hostal\n",
      "Hostal\n",
      "Hostal\n",
      "Hostal\n",
      "Hostal\n",
      "Hostal\n",
      "Hostal\n",
      "Not Hostal\n",
      "Hostal\n",
      "Hostal\n",
      "Hostal\n",
      "Hostal\n",
      "Hostal\n",
      "Hostal\n",
      "Hostal\n",
      "Hostal\n",
      "Hostal\n",
      "Hostal\n",
      "Hostal\n",
      "Hostal\n",
      "Hostal\n",
      "Not Hostal\n",
      "Hostal\n",
      "Hostal\n",
      "Hostal\n",
      "Hostal\n",
      "Hostal\n",
      "Hostal\n",
      "Hostal\n",
      "Hostal\n",
      "Hostal\n",
      "Hostal\n",
      "Hostal\n",
      "Hostal\n",
      "Hostal\n",
      "Hostal\n"
     ]
    },
    {
     "data": {
      "text/plain": [
       "'MT-13'"
      ]
     },
     "execution_count": 90,
     "metadata": {},
     "output_type": "execute_result"
    }
   ],
   "source": [
    "Hostal(skool)"
   ]
  }
 ],
 "metadata": {
  "kernelspec": {
   "display_name": "Python 3",
   "language": "python",
   "name": "python3"
  },
  "language_info": {
   "codemirror_mode": {
    "name": "ipython",
    "version": 3
   },
   "file_extension": ".py",
   "mimetype": "text/x-python",
   "name": "python",
   "nbconvert_exporter": "python",
   "pygments_lexer": "ipython3",
   "version": "3.7.3"
  }
 },
 "nbformat": 4,
 "nbformat_minor": 2
}
