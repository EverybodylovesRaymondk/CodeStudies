{
 "cells": [
  {
   "cell_type": "code",
   "execution_count": 1,
   "metadata": {},
   "outputs": [],
   "source": [
    "import pandas as pd\n",
    "import cx_Oracle\n",
    "import datetime as dt\n",
    "from pivottablejs import pivot_ui"
   ]
  },
  {
   "cell_type": "code",
   "execution_count": 2,
   "metadata": {},
   "outputs": [],
   "source": [
    "username = \"PECUTILOTST\"\n",
    "password = \"PECUTILOTST\"\n",
    "host = \"dboratst.spsi.co.za\"\n",
    "service = \"tst\""
   ]
  },
  {
   "cell_type": "code",
   "execution_count": 3,
   "metadata": {},
   "outputs": [],
   "source": [
    "# create connection \n",
    "connection = cx_Oracle.connect(username, password, host+\"/\"+service)"
   ]
  },
  {
   "cell_type": "code",
   "execution_count": 4,
   "metadata": {},
   "outputs": [],
   "source": [
    "#Create cursor\n",
    "cur = connection.cursor()"
   ]
  },
  {
   "cell_type": "code",
   "execution_count": 5,
   "metadata": {},
   "outputs": [
    {
     "name": "stdout",
     "output_type": "stream",
     "text": [
      "Meter number: 20529319\n",
      "Date From (DD-MON-YY HH:MM:SS): 23-oct-20 23:00:00\n",
      "Date To (DD-MON-YY HH:MM:SS): 27-oct-20 00:00:00\n"
     ]
    }
   ],
   "source": [
    "sql_select = \"\"\"SELECT\n",
    "MPR.NAME ,MR.ICE_METERREADINGDATE ,MR.ICE_METER_READING ,MR.QTY\n",
    "FROM ICE_METERREADINGS MR\n",
    "INNER JOIN ICE_METER MP ON MR.ICE_METER_ID = MP.ICE_METER_ID\n",
    "INNER JOIN ICE_METER_REGISTER MPR ON MR.ICE_METER_REGISTER_ID = MPR.ICE_METER_REGISTER_ID\n",
    "WHERE MP.ICE_METER_NUMBER='{}'\n",
    "AND MR.ICE_METERREADINGDATE BETWEEN TO_DATE('{}','dd-MON-YY hh24:mi:ss') \n",
    "AND TO_DATE('{}','dd-MON-YY hh24:mi:ss') \n",
    "ORDER BY MR.ICE_METERREADINGDATE ASC\"\"\".format(input('Meter number: '),\n",
    "                                               input('Date From (DD-MON-YY HH:MM:SS): '),\n",
    "                                               input('Date To (DD-MON-YY HH:MM:SS): '))"
   ]
  },
  {
   "cell_type": "code",
   "execution_count": 6,
   "metadata": {},
   "outputs": [
    {
     "data": {
      "text/html": [
       "<div>\n",
       "<style scoped>\n",
       "    .dataframe tbody tr th:only-of-type {\n",
       "        vertical-align: middle;\n",
       "    }\n",
       "\n",
       "    .dataframe tbody tr th {\n",
       "        vertical-align: top;\n",
       "    }\n",
       "\n",
       "    .dataframe thead th {\n",
       "        text-align: right;\n",
       "    }\n",
       "</style>\n",
       "<table border=\"1\" class=\"dataframe\">\n",
       "  <thead>\n",
       "    <tr style=\"text-align: right;\">\n",
       "      <th></th>\n",
       "      <th>NAME</th>\n",
       "      <th>ICE_METERREADINGDATE</th>\n",
       "      <th>ICE_METER_READING</th>\n",
       "      <th>QTY</th>\n",
       "    </tr>\n",
       "  </thead>\n",
       "  <tbody>\n",
       "    <tr>\n",
       "      <th>0</th>\n",
       "      <td>T2_MAX_DEMAND_KVA-kVA</td>\n",
       "      <td>2020-10-24</td>\n",
       "      <td>0.02</td>\n",
       "      <td>0.02</td>\n",
       "    </tr>\n",
       "    <tr>\n",
       "      <th>1</th>\n",
       "      <td>Off-Peak-kWh</td>\n",
       "      <td>2020-10-24</td>\n",
       "      <td>0.44</td>\n",
       "      <td>0.00</td>\n",
       "    </tr>\n",
       "    <tr>\n",
       "      <th>2</th>\n",
       "      <td>T2_KWH-kWh</td>\n",
       "      <td>2020-10-24</td>\n",
       "      <td>23.52</td>\n",
       "      <td>0.03</td>\n",
       "    </tr>\n",
       "    <tr>\n",
       "      <th>3</th>\n",
       "      <td>Total (kVA)-kVA</td>\n",
       "      <td>2020-10-24</td>\n",
       "      <td>0.02</td>\n",
       "      <td>0.02</td>\n",
       "    </tr>\n",
       "    <tr>\n",
       "      <th>4</th>\n",
       "      <td>Standard-kWh</td>\n",
       "      <td>2020-10-24</td>\n",
       "      <td>0.31</td>\n",
       "      <td>0.00</td>\n",
       "    </tr>\n",
       "  </tbody>\n",
       "</table>\n",
       "</div>"
      ],
      "text/plain": [
       "                    NAME ICE_METERREADINGDATE  ICE_METER_READING   QTY\n",
       "0  T2_MAX_DEMAND_KVA-kVA           2020-10-24               0.02  0.02\n",
       "1           Off-Peak-kWh           2020-10-24               0.44  0.00\n",
       "2             T2_KWH-kWh           2020-10-24              23.52  0.03\n",
       "3        Total (kVA)-kVA           2020-10-24               0.02  0.02\n",
       "4           Standard-kWh           2020-10-24               0.31  0.00"
      ]
     },
     "execution_count": 6,
     "metadata": {},
     "output_type": "execute_result"
    }
   ],
   "source": [
    "Readings = pd.read_sql_query(sql_select,con=connection)\n",
    "Readings.head()"
   ]
  },
  {
   "cell_type": "code",
   "execution_count": 7,
   "metadata": {},
   "outputs": [],
   "source": [
    "cur.close()\n",
    "connection.close()"
   ]
  },
  {
   "cell_type": "code",
   "execution_count": 8,
   "metadata": {},
   "outputs": [],
   "source": [
    "weekDays = (\"Weekdays\",\"Weekdays\",\"Weekdays\",\"Weekdays\",\"Weekdays\",\"Saturday\",\"Sunday\")"
   ]
  },
  {
   "cell_type": "code",
   "execution_count": 9,
   "metadata": {},
   "outputs": [
    {
     "data": {
      "text/html": [
       "<div>\n",
       "<style scoped>\n",
       "    .dataframe tbody tr th:only-of-type {\n",
       "        vertical-align: middle;\n",
       "    }\n",
       "\n",
       "    .dataframe tbody tr th {\n",
       "        vertical-align: top;\n",
       "    }\n",
       "\n",
       "    .dataframe thead th {\n",
       "        text-align: right;\n",
       "    }\n",
       "</style>\n",
       "<table border=\"1\" class=\"dataframe\">\n",
       "  <thead>\n",
       "    <tr style=\"text-align: right;\">\n",
       "      <th></th>\n",
       "      <th>NAME</th>\n",
       "      <th>ICE_METERREADINGDATE</th>\n",
       "      <th>ICE_METER_READING</th>\n",
       "      <th>QTY</th>\n",
       "      <th>MONTH</th>\n",
       "      <th>DAY</th>\n",
       "      <th>HOUR</th>\n",
       "      <th>MIN</th>\n",
       "      <th>DOW</th>\n",
       "    </tr>\n",
       "  </thead>\n",
       "  <tbody>\n",
       "    <tr>\n",
       "      <th>0</th>\n",
       "      <td>T2_MAX_DEMAND_KVA-kVA</td>\n",
       "      <td>2020-10-24</td>\n",
       "      <td>0.02</td>\n",
       "      <td>0.02</td>\n",
       "      <td>10</td>\n",
       "      <td>24</td>\n",
       "      <td>0</td>\n",
       "      <td>0</td>\n",
       "      <td>Saturday</td>\n",
       "    </tr>\n",
       "    <tr>\n",
       "      <th>1</th>\n",
       "      <td>Off-Peak-kWh</td>\n",
       "      <td>2020-10-24</td>\n",
       "      <td>0.44</td>\n",
       "      <td>0.00</td>\n",
       "      <td>10</td>\n",
       "      <td>24</td>\n",
       "      <td>0</td>\n",
       "      <td>0</td>\n",
       "      <td>Saturday</td>\n",
       "    </tr>\n",
       "    <tr>\n",
       "      <th>2</th>\n",
       "      <td>T2_KWH-kWh</td>\n",
       "      <td>2020-10-24</td>\n",
       "      <td>23.52</td>\n",
       "      <td>0.03</td>\n",
       "      <td>10</td>\n",
       "      <td>24</td>\n",
       "      <td>0</td>\n",
       "      <td>0</td>\n",
       "      <td>Saturday</td>\n",
       "    </tr>\n",
       "    <tr>\n",
       "      <th>3</th>\n",
       "      <td>Total (kVA)-kVA</td>\n",
       "      <td>2020-10-24</td>\n",
       "      <td>0.02</td>\n",
       "      <td>0.02</td>\n",
       "      <td>10</td>\n",
       "      <td>24</td>\n",
       "      <td>0</td>\n",
       "      <td>0</td>\n",
       "      <td>Saturday</td>\n",
       "    </tr>\n",
       "    <tr>\n",
       "      <th>4</th>\n",
       "      <td>Standard-kWh</td>\n",
       "      <td>2020-10-24</td>\n",
       "      <td>0.31</td>\n",
       "      <td>0.00</td>\n",
       "      <td>10</td>\n",
       "      <td>24</td>\n",
       "      <td>0</td>\n",
       "      <td>0</td>\n",
       "      <td>Saturday</td>\n",
       "    </tr>\n",
       "  </tbody>\n",
       "</table>\n",
       "</div>"
      ],
      "text/plain": [
       "                    NAME ICE_METERREADINGDATE  ICE_METER_READING   QTY  MONTH  \\\n",
       "0  T2_MAX_DEMAND_KVA-kVA           2020-10-24               0.02  0.02     10   \n",
       "1           Off-Peak-kWh           2020-10-24               0.44  0.00     10   \n",
       "2             T2_KWH-kWh           2020-10-24              23.52  0.03     10   \n",
       "3        Total (kVA)-kVA           2020-10-24               0.02  0.02     10   \n",
       "4           Standard-kWh           2020-10-24               0.31  0.00     10   \n",
       "\n",
       "   DAY  HOUR  MIN       DOW  \n",
       "0   24     0    0  Saturday  \n",
       "1   24     0    0  Saturday  \n",
       "2   24     0    0  Saturday  \n",
       "3   24     0    0  Saturday  \n",
       "4   24     0    0  Saturday  "
      ]
     },
     "execution_count": 9,
     "metadata": {},
     "output_type": "execute_result"
    }
   ],
   "source": [
    "Readings['MONTH'] = Readings['ICE_METERREADINGDATE'].apply(lambda x : x.month)\n",
    "Readings['DAY'] = Readings['ICE_METERREADINGDATE'].apply(lambda x : x.day)\n",
    "Readings['HOUR'] = Readings['ICE_METERREADINGDATE'].apply(lambda x : x.hour)\n",
    "Readings['MIN'] = Readings['ICE_METERREADINGDATE'].apply(lambda x : x.minute)\n",
    "Readings['DOW'] = Readings['ICE_METERREADINGDATE'].apply(lambda x :weekDays[x.weekday()])\n",
    "Readings.head()"
   ]
  },
  {
   "cell_type": "code",
   "execution_count": 10,
   "metadata": {},
   "outputs": [
    {
     "data": {
      "text/plain": [
       "['T2_MAX_DEMAND_KVA-kVA',\n",
       " 'Off-Peak-kWh',\n",
       " 'T2_KWH-kWh',\n",
       " 'Total (kVA)-kVA',\n",
       " 'Standard-kWh',\n",
       " 'Peak-kWh',\n",
       " 'Active power (P) Import Total (kW)-kWh']"
      ]
     },
     "execution_count": 10,
     "metadata": {},
     "output_type": "execute_result"
    }
   ],
   "source": [
    "Registers=list(dict.fromkeys(Readings['NAME']))\n",
    "NA_REG = ['T2_KWH-kWh','T2_MAX_DEMAND_KVA-kVA','Total (kVA)-kVA']\n",
    "Registers"
   ]
  },
  {
   "cell_type": "code",
   "execution_count": 11,
   "metadata": {},
   "outputs": [
    {
     "data": {
      "text/html": [
       "<div>\n",
       "<style scoped>\n",
       "    .dataframe tbody tr th:only-of-type {\n",
       "        vertical-align: middle;\n",
       "    }\n",
       "\n",
       "    .dataframe tbody tr th {\n",
       "        vertical-align: top;\n",
       "    }\n",
       "\n",
       "    .dataframe thead th {\n",
       "        text-align: right;\n",
       "    }\n",
       "</style>\n",
       "<table border=\"1\" class=\"dataframe\">\n",
       "  <thead>\n",
       "    <tr style=\"text-align: right;\">\n",
       "      <th></th>\n",
       "      <th>NAME</th>\n",
       "      <th>ICE_METERREADINGDATE</th>\n",
       "      <th>ICE_METER_READING</th>\n",
       "      <th>QTY</th>\n",
       "      <th>MONTH</th>\n",
       "      <th>DAY</th>\n",
       "      <th>HOUR</th>\n",
       "      <th>MIN</th>\n",
       "      <th>DOW</th>\n",
       "    </tr>\n",
       "  </thead>\n",
       "  <tbody>\n",
       "    <tr>\n",
       "      <th>1</th>\n",
       "      <td>Off-Peak-kWh</td>\n",
       "      <td>2020-10-24</td>\n",
       "      <td>0.44</td>\n",
       "      <td>0.0</td>\n",
       "      <td>10</td>\n",
       "      <td>24</td>\n",
       "      <td>0</td>\n",
       "      <td>0</td>\n",
       "      <td>Saturday</td>\n",
       "    </tr>\n",
       "    <tr>\n",
       "      <th>4</th>\n",
       "      <td>Standard-kWh</td>\n",
       "      <td>2020-10-24</td>\n",
       "      <td>0.31</td>\n",
       "      <td>0.0</td>\n",
       "      <td>10</td>\n",
       "      <td>24</td>\n",
       "      <td>0</td>\n",
       "      <td>0</td>\n",
       "      <td>Saturday</td>\n",
       "    </tr>\n",
       "  </tbody>\n",
       "</table>\n",
       "</div>"
      ],
      "text/plain": [
       "           NAME ICE_METERREADINGDATE  ICE_METER_READING  QTY  MONTH  DAY  \\\n",
       "1  Off-Peak-kWh           2020-10-24               0.44  0.0     10   24   \n",
       "4  Standard-kWh           2020-10-24               0.31  0.0     10   24   \n",
       "\n",
       "   HOUR  MIN       DOW  \n",
       "1     0    0  Saturday  \n",
       "4     0    0  Saturday  "
      ]
     },
     "execution_count": 11,
     "metadata": {},
     "output_type": "execute_result"
    }
   ],
   "source": [
    "TOU = Readings[(Readings.NAME !=NA_REG[0]) & (Readings.NAME !=NA_REG[1]) & (Readings.NAME !=NA_REG[2])]\n",
    "TOU.head(2)"
   ]
  },
  {
   "cell_type": "code",
   "execution_count": 12,
   "metadata": {},
   "outputs": [],
   "source": [
    "X=list(dict.fromkeys(TOU['DAY']))\n",
    "Y=list(dict.fromkeys(TOU['MONTH']))"
   ]
  },
  {
   "cell_type": "code",
   "execution_count": 13,
   "metadata": {},
   "outputs": [],
   "source": [
    "f = open(\"TOU_Analysis_Output.TXT\",\"w+\")\n",
    "f.write('TOU Analysis Results: ({}/{} - {}/{})'.format(X[0],Y[0],X[-1],Y[-1]))\n",
    "f.write('\\n'*2)\n",
    "for i in X:\n",
    "    f.write('Day '+str(i)+'\\n')\n",
    "    f.write('1)TOU consumption' + ' = ' + str(round(sum(TOU[(TOU.DAY ==i) & (TOU.QTY >0) & (TOU.NAME !='Active power (P) Import Total (kW)-kWh') ]['QTY']),2))+' kWh' + '\\n')\n",
    "    f.write('2)Total consumption' + ' = '+ str(round(sum(TOU[(TOU.DAY ==i) & (TOU.QTY >0) & (TOU.NAME =='Active power (P) Import Total (kW)-kWh') ]['QTY']),2))+ ' kWh'+'\\n')\n",
    "    f.write('3)Difference = ' + str(round((sum(TOU[(TOU.DAY ==i) & (TOU.QTY >0) & (TOU.NAME =='Active power (P) Import Total (kW)-kWh') ]['QTY']))-(sum(TOU[(TOU.DAY ==i) & (TOU.QTY >0) & (TOU.NAME !='Active power (P) Import Total (kW)-kWh') ]['QTY'])),2))+' kWh' + '\\n')\n",
    "    f.write('\\n')\n",
    "    #print(str(i)+' Difference = ' + str(round((sum(TOU[(TOU.DAY ==i) & (TOU.QTY >0) & (TOU.NAME =='Active power (P) Import Total (kW)-kWh') ]['QTY']))-(sum(TOU[(TOU.DAY ==i) & (TOU.QTY >0) & (TOU.NAME !='Active power (P) Import Total (kW)-kWh') ]['QTY'])),2))+' kWh' + '\\n')\n",
    "f.close()"
   ]
  },
  {
   "cell_type": "code",
   "execution_count": 14,
   "metadata": {
    "scrolled": true
   },
   "outputs": [
    {
     "data": {
      "text/html": [
       "\n",
       "        <iframe\n",
       "            width=\"0\"\n",
       "            height=\"0\"\n",
       "            src=\"TOU_Analysis.html\"\n",
       "            frameborder=\"0\"\n",
       "            allowfullscreen\n",
       "        ></iframe>\n",
       "        "
      ],
      "text/plain": [
       "<IPython.lib.display.IFrame at 0x19d43b9fda0>"
      ]
     },
     "execution_count": 14,
     "metadata": {},
     "output_type": "execute_result"
    }
   ],
   "source": [
    "pivot_ui(TOU,outfile_path='TOU_Analysis.html',width=0,height=0)"
   ]
  }
 ],
 "metadata": {
  "kernelspec": {
   "display_name": "Python 3",
   "language": "python",
   "name": "python3"
  },
  "language_info": {
   "codemirror_mode": {
    "name": "ipython",
    "version": 3
   },
   "file_extension": ".py",
   "mimetype": "text/x-python",
   "name": "python",
   "nbconvert_exporter": "python",
   "pygments_lexer": "ipython3",
   "version": "3.7.3"
  }
 },
 "nbformat": 4,
 "nbformat_minor": 2
}
