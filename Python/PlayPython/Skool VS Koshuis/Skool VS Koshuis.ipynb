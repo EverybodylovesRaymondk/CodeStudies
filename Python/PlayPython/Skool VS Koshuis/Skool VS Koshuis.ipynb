{
 "cells": [
  {
   "cell_type": "markdown",
   "metadata": {},
   "source": [
    "# Importing modules"
   ]
  },
  {
   "cell_type": "code",
   "execution_count": 16,
   "metadata": {},
   "outputs": [],
   "source": [
    "import pandas as pd\n",
    "import numpy as np\n",
    "from datetime import datetime as dt"
   ]
  },
  {
   "cell_type": "markdown",
   "metadata": {},
   "source": [
    "# Importing data"
   ]
  },
  {
   "cell_type": "code",
   "execution_count": 17,
   "metadata": {},
   "outputs": [],
   "source": [
    "skool = pd.DataFrame(pd.read_excel('C:\\\\Users\\\\raymondk\\\\Desktop\\\\Study\\\\Python\\\\PlayPython\\\\Skool VS Koshuis\\\\Input\\\\Skool.xlsx'))\n",
    "#skool.head(2)"
   ]
  },
  {
   "cell_type": "code",
   "execution_count": 18,
   "metadata": {},
   "outputs": [],
   "source": [
    "koshuis = pd.DataFrame(pd.read_excel('C:\\\\Users\\\\raymondk\\\\Desktop\\\\Study\\\\Python\\\\PlayPython\\\\Skool VS Koshuis\\\\Input\\\\Koshuis.xlsx'))\n",
    "#koshuis.head(2)"
   ]
  },
  {
   "cell_type": "code",
   "execution_count": 19,
   "metadata": {},
   "outputs": [],
   "source": [
    "fee = pd.DataFrame(pd.read_excel('C:\\\\Users\\\\raymondk\\\\Desktop\\\\Study\\\\Python\\\\PlayPython\\\\Skool VS Koshuis\\\\Input\\\\Fees.xlsx'))\n",
    "#fee"
   ]
  },
  {
   "cell_type": "markdown",
   "metadata": {},
   "source": [
    "# Creating Calculation DataFrame"
   ]
  },
  {
   "cell_type": "code",
   "execution_count": 20,
   "metadata": {},
   "outputs": [],
   "source": [
    "calc = skool\n",
    "#calc.head(2)"
   ]
  },
  {
   "cell_type": "markdown",
   "metadata": {},
   "source": [
    "### Determining if kind is in Hostal"
   ]
  },
  {
   "cell_type": "code",
   "execution_count": 21,
   "metadata": {},
   "outputs": [],
   "source": [
    "calc['IN HOSTAL'] = skool['FAM CODE'].isin(koshuis['FAM CODE'])\n",
    "#calc.head(5)"
   ]
  },
  {
   "cell_type": "markdown",
   "metadata": {},
   "source": [
    "### Brining in the Kos_Amount for each child\n",
    "#### If there is no amount a 0.0 is populated"
   ]
  },
  {
   "cell_type": "code",
   "execution_count": 22,
   "metadata": {},
   "outputs": [],
   "source": [
    "calc['KOS AMOUNT'] = pd.merge(skool,koshuis,how = 'left',on='FAM CODE')['AMOUNT'].fillna(0)\n",
    "#calc.head(5)"
   ]
  },
  {
   "cell_type": "code",
   "execution_count": 23,
   "metadata": {},
   "outputs": [],
   "source": [
    "def amount(x):\n",
    "    '''This funciton will determine the applicable fee based on if the child is in the hostal or not'''\n",
    "    if x == True:\n",
    "        return fee['AMOUNT'][1]\n",
    "    else:\n",
    "        return fee['AMOUNT'][0]"
   ]
  },
  {
   "cell_type": "code",
   "execution_count": 24,
   "metadata": {},
   "outputs": [],
   "source": [
    "calc['BASE AMOUNT']=round(calc['IN HOSTAL'].apply(lambda x : amount(x)),2)\n",
    "#calc.head(2)"
   ]
  },
  {
   "cell_type": "code",
   "execution_count": 25,
   "metadata": {},
   "outputs": [],
   "source": [
    "def initial_amount(x):\n",
    "    if x == 8:\n",
    "        return fee['AMOUNT'][2]\n",
    "    else: \n",
    "        return 0"
   ]
  },
  {
   "cell_type": "code",
   "execution_count": 26,
   "metadata": {},
   "outputs": [],
   "source": [
    "calc['INITIAL AMOUNT']=calc['GR'].apply(lambda x : initial_amount(x))\n",
    "calc['TOTAL']=calc['BASE AMOUNT']+calc['INITIAL AMOUNT']+calc['KOS AMOUNT']\n",
    "calc.to_excel('C:\\\\Users\\\\raymondk\\\\Desktop\\\\Study\\\\Python\\\\PlayPython\\\\Skool VS Koshuis\\\\Output\\\\Final_All.xlsx',sheet_name='Almal',index=False)"
   ]
  },
  {
   "cell_type": "code",
   "execution_count": 27,
   "metadata": {},
   "outputs": [],
   "source": [
    "Final=calc[(calc['GR']!=12) & (calc['IN HOSTAL']==False)]\n",
    "Final.to_excel('C:\\\\Users\\\\raymondk\\\\Desktop\\\\Study\\\\Python\\\\PlayPython\\\\Skool VS Koshuis\\\\Output\\\\Final_Filterd.xlsx',sheet_name='Filterd',index=False)"
   ]
  },
  {
   "cell_type": "code",
   "execution_count": 28,
   "metadata": {},
   "outputs": [
    {
     "data": {
      "text/html": [
       "<div>\n",
       "<style scoped>\n",
       "    .dataframe tbody tr th:only-of-type {\n",
       "        vertical-align: middle;\n",
       "    }\n",
       "\n",
       "    .dataframe tbody tr th {\n",
       "        vertical-align: top;\n",
       "    }\n",
       "\n",
       "    .dataframe thead th {\n",
       "        text-align: right;\n",
       "    }\n",
       "</style>\n",
       "<table border=\"1\" class=\"dataframe\">\n",
       "  <thead>\n",
       "    <tr style=\"text-align: right;\">\n",
       "      <th></th>\n",
       "      <th>FAM CODE</th>\n",
       "      <th>NAME</th>\n",
       "      <th>GR</th>\n",
       "      <th>IN HOSTAL</th>\n",
       "      <th>KOS AMOUNT</th>\n",
       "      <th>BASE AMOUNT</th>\n",
       "      <th>INITIAL AMOUNT</th>\n",
       "      <th>TOTAL</th>\n",
       "    </tr>\n",
       "  </thead>\n",
       "  <tbody>\n",
       "    <tr>\n",
       "      <th>0</th>\n",
       "      <td>K1</td>\n",
       "      <td>Kind 1</td>\n",
       "      <td>8</td>\n",
       "      <td>False</td>\n",
       "      <td>0.0</td>\n",
       "      <td>2000</td>\n",
       "      <td>5000</td>\n",
       "      <td>7000.0</td>\n",
       "    </tr>\n",
       "    <tr>\n",
       "      <th>4</th>\n",
       "      <td>K4</td>\n",
       "      <td>Kind 4</td>\n",
       "      <td>8</td>\n",
       "      <td>False</td>\n",
       "      <td>0.0</td>\n",
       "      <td>2000</td>\n",
       "      <td>5000</td>\n",
       "      <td>7000.0</td>\n",
       "    </tr>\n",
       "    <tr>\n",
       "      <th>5</th>\n",
       "      <td>K5</td>\n",
       "      <td>Kind 5</td>\n",
       "      <td>8</td>\n",
       "      <td>False</td>\n",
       "      <td>0.0</td>\n",
       "      <td>2000</td>\n",
       "      <td>5000</td>\n",
       "      <td>7000.0</td>\n",
       "    </tr>\n",
       "    <tr>\n",
       "      <th>7</th>\n",
       "      <td>K7</td>\n",
       "      <td>Kind 7</td>\n",
       "      <td>9</td>\n",
       "      <td>False</td>\n",
       "      <td>0.0</td>\n",
       "      <td>2000</td>\n",
       "      <td>0</td>\n",
       "      <td>2000.0</td>\n",
       "    </tr>\n",
       "    <tr>\n",
       "      <th>9</th>\n",
       "      <td>K9</td>\n",
       "      <td>Kind 9</td>\n",
       "      <td>9</td>\n",
       "      <td>False</td>\n",
       "      <td>0.0</td>\n",
       "      <td>2000</td>\n",
       "      <td>0</td>\n",
       "      <td>2000.0</td>\n",
       "    </tr>\n",
       "  </tbody>\n",
       "</table>\n",
       "</div>"
      ],
      "text/plain": [
       "  FAM CODE    NAME  GR  IN HOSTAL  KOS AMOUNT  BASE AMOUNT  INITIAL AMOUNT  \\\n",
       "0       K1  Kind 1   8      False         0.0         2000            5000   \n",
       "4       K4  Kind 4   8      False         0.0         2000            5000   \n",
       "5       K5  Kind 5   8      False         0.0         2000            5000   \n",
       "7       K7  Kind 7   9      False         0.0         2000               0   \n",
       "9       K9  Kind 9   9      False         0.0         2000               0   \n",
       "\n",
       "    TOTAL  \n",
       "0  7000.0  \n",
       "4  7000.0  \n",
       "5  7000.0  \n",
       "7  2000.0  \n",
       "9  2000.0  "
      ]
     },
     "execution_count": 28,
     "metadata": {},
     "output_type": "execute_result"
    }
   ],
   "source": [
    "Final.head()"
   ]
  },
  {
   "cell_type": "markdown",
   "metadata": {},
   "source": [
    "### User notifications"
   ]
  },
  {
   "cell_type": "code",
   "execution_count": 29,
   "metadata": {},
   "outputs": [],
   "source": [
    "location = str('C:\\\\Users\\\\raymondk\\\\Desktop\\\\Study\\\\Python\\\\PlayPython\\\\Skool VS Koshuis\\\\Output')"
   ]
  },
  {
   "cell_type": "code",
   "execution_count": 30,
   "metadata": {},
   "outputs": [
    {
     "name": "stdout",
     "output_type": "stream",
     "text": [
      "Code Completed\n",
      "Date:2020/11/11 \n",
      "Time:18:10:57\n",
      "Output Files Created\n",
      "Location :C:\\Users\\raymondk\\Desktop\\Study\\Python\\PlayPython\\Skool VS Koshuis\\Output\n"
     ]
    }
   ],
   "source": [
    "print('Code Completed\\nDate:{}/{}/{} \\nTime:{}:{}:{}\\nOutput Files Created\\nLocation :{}'.format(dt.now().year,\n",
    "                                                                                                 dt.now().month,\n",
    "                                                                                                 dt.now().day,\n",
    "                                                                                                 dt.now().hour,\n",
    "                                                                                                 dt.now().minute,\n",
    "                                                                                                 dt.now().second,\n",
    "                                                                                                 location))"
   ]
  }
 ],
 "metadata": {
  "kernelspec": {
   "display_name": "Python 3",
   "language": "python",
   "name": "python3"
  },
  "language_info": {
   "codemirror_mode": {
    "name": "ipython",
    "version": 3
   },
   "file_extension": ".py",
   "mimetype": "text/x-python",
   "name": "python",
   "nbconvert_exporter": "python",
   "pygments_lexer": "ipython3",
   "version": "3.7.3"
  }
 },
 "nbformat": 4,
 "nbformat_minor": 2
}
