{
 "cells": [
  {
   "cell_type": "markdown",
   "metadata": {},
   "source": [
    "# Importing modules"
   ]
  },
  {
   "cell_type": "code",
   "execution_count": 15,
   "metadata": {},
   "outputs": [],
   "source": [
    "import pandas as pd\n",
    "import numpy as np\n",
    "from datetime import datetime as dt"
   ]
  },
  {
   "cell_type": "markdown",
   "metadata": {},
   "source": [
    "# Importing data"
   ]
  },
  {
   "cell_type": "code",
   "execution_count": 16,
   "metadata": {},
   "outputs": [],
   "source": [
    "skool = pd.DataFrame(pd.read_excel('C:\\\\Users\\\\raymondk\\\\Desktop\\\\Study\\\\Python\\\\PlayPython\\\\Skool VS Koshuis\\\\Input\\\\Skool.xlsx'))\n",
    "#skool.head(2)"
   ]
  },
  {
   "cell_type": "code",
   "execution_count": 17,
   "metadata": {},
   "outputs": [],
   "source": [
    "koshuis = pd.DataFrame(pd.read_excel('C:\\\\Users\\\\raymondk\\\\Desktop\\\\Study\\\\Python\\\\PlayPython\\\\Skool VS Koshuis\\\\Input\\\\Koshuis.xlsx'))\n",
    "#koshuis.head(2)"
   ]
  },
  {
   "cell_type": "code",
   "execution_count": 18,
   "metadata": {},
   "outputs": [],
   "source": [
    "fee = pd.DataFrame(pd.read_excel('C:\\\\Users\\\\raymondk\\\\Desktop\\\\Study\\\\Python\\\\PlayPython\\\\Skool VS Koshuis\\\\Input\\\\Fees.xlsx'))\n",
    "#fee"
   ]
  },
  {
   "cell_type": "markdown",
   "metadata": {},
   "source": [
    "# Creating Calculation DataFrame"
   ]
  },
  {
   "cell_type": "code",
   "execution_count": 19,
   "metadata": {},
   "outputs": [],
   "source": [
    "calc = skool\n",
    "#calc.head(2)"
   ]
  },
  {
   "cell_type": "markdown",
   "metadata": {},
   "source": [
    "### Determining if kind is in Hostal"
   ]
  },
  {
   "cell_type": "code",
   "execution_count": 20,
   "metadata": {},
   "outputs": [],
   "source": [
    "calc['IN HOSTAL'] = skool['FAM CODE'].isin(koshuis['FAM CODE'])\n",
    "#calc.head(5)"
   ]
  },
  {
   "cell_type": "markdown",
   "metadata": {},
   "source": [
    "### Brining in the Kos_Amount for each child\n",
    "#### If there is no amount a 0.0 is populated"
   ]
  },
  {
   "cell_type": "code",
   "execution_count": 21,
   "metadata": {},
   "outputs": [],
   "source": [
    "calc['KOS AMOUNT'] = pd.merge(skool,koshuis,how = 'left',on='FAM CODE')['AMOUNT'].fillna(0)\n",
    "#calc.head(5)"
   ]
  },
  {
   "cell_type": "code",
   "execution_count": 22,
   "metadata": {},
   "outputs": [],
   "source": [
    "def amount(x):\n",
    "    '''This funciton will determine the applicable fee based on if the child is in the hostal or not'''\n",
    "    if x == True:\n",
    "        return fee['AMOUNT'][1]\n",
    "    else:\n",
    "        return fee['AMOUNT'][0]"
   ]
  },
  {
   "cell_type": "code",
   "execution_count": 23,
   "metadata": {},
   "outputs": [],
   "source": [
    "calc['BASE AMOUNT']=round(calc['IN HOSTAL'].apply(lambda x : amount(x)),2)\n",
    "#calc.head(2)"
   ]
  },
  {
   "cell_type": "code",
   "execution_count": 24,
   "metadata": {},
   "outputs": [],
   "source": [
    "def initial_amount(x):\n",
    "    if x == 8:\n",
    "        return fee['AMOUNT'][2]\n",
    "    else: \n",
    "        return 0"
   ]
  },
  {
   "cell_type": "code",
   "execution_count": 25,
   "metadata": {},
   "outputs": [],
   "source": [
    "calc['INITIAL AMOUNT']=calc['GR'].apply(lambda x : initial_amount(x))\n",
    "calc['TOTAL']=calc['BASE AMOUNT']+calc['INITIAL AMOUNT']+calc['KOS AMOUNT']\n",
    "calc.to_excel('C:\\\\Users\\\\raymondk\\\\Desktop\\\\Study\\\\Python\\\\PlayPython\\\\Skool VS Koshuis\\\\Output\\\\Final_All.xlsx',sheet_name='Almal',index=False)"
   ]
  },
  {
   "cell_type": "code",
   "execution_count": 26,
   "metadata": {},
   "outputs": [],
   "source": [
    "Final=calc[(calc['GR']!=12) & (calc['IN HOSTAL']==False)]\n",
    "Final.to_excel('C:\\\\Users\\\\raymondk\\\\Desktop\\\\Study\\\\Python\\\\PlayPython\\\\Skool VS Koshuis\\\\Output\\\\Final_Filterd.xlsx',sheet_name='Filterd',index=False)"
   ]
  },
  {
   "cell_type": "markdown",
   "metadata": {},
   "source": [
    "### User notifications"
   ]
  },
  {
   "cell_type": "code",
   "execution_count": 27,
   "metadata": {},
   "outputs": [],
   "source": [
    "location = str('C:\\\\Users\\\\raymondk\\\\Desktop\\\\Study\\\\Python\\\\PlayPython\\\\Skool VS Koshuis\\\\Output')"
   ]
  },
  {
   "cell_type": "code",
   "execution_count": 28,
   "metadata": {},
   "outputs": [
    {
     "name": "stdout",
     "output_type": "stream",
     "text": [
      "Code Completed\n",
      "Date:2020/8/20 \n",
      "Time:12:29:55\n",
      "Output Files Created\n",
      "Location :C:\\Users\\raymondk\\Desktop\\Study\\Python\\PlayPython\\Skool VS Koshuis\\Output\n"
     ]
    }
   ],
   "source": [
    "print('Code Completed\\nDate:{}/{}/{} \\nTime:{}:{}:{}\\nOutput Files Created\\nLocation :{}'.format(dt.now().year,\n",
    "                                                                                                 dt.now().month,\n",
    "                                                                                                 dt.now().day,\n",
    "                                                                                                 dt.now().hour,\n",
    "                                                                                                 dt.now().minute,\n",
    "                                                                                                 dt.now().second,\n",
    "                                                                                                 location))"
   ]
  }
 ],
 "metadata": {
  "kernelspec": {
   "display_name": "Python 3",
   "language": "python",
   "name": "python3"
  },
  "language_info": {
   "codemirror_mode": {
    "name": "ipython",
    "version": 3
   },
   "file_extension": ".py",
   "mimetype": "text/x-python",
   "name": "python",
   "nbconvert_exporter": "python",
   "pygments_lexer": "ipython3",
   "version": "3.7.3"
  }
 },
 "nbformat": 4,
 "nbformat_minor": 2
}
