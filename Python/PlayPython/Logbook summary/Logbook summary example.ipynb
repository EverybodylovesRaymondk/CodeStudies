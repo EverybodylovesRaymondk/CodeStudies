{
 "cells": [
  {
   "cell_type": "markdown",
   "metadata": {},
   "source": [
    "# Importing Modules"
   ]
  },
  {
   "cell_type": "code",
   "execution_count": 15,
   "metadata": {},
   "outputs": [],
   "source": [
    "import pandas as pd\n",
    "import numpy as np\n",
    "from datetime import date as dt\n",
    "from datetime import datetime as dtt"
   ]
  },
  {
   "cell_type": "markdown",
   "metadata": {},
   "source": [
    "# Importing Data\n",
    "## Creating DataFrame"
   ]
  },
  {
   "cell_type": "code",
   "execution_count": 16,
   "metadata": {
    "scrolled": false
   },
   "outputs": [],
   "source": [
    "df=pd.DataFrame(pd.read_excel('Sample.xlsx'))\n",
    "df.drop(['DATE DD/MM/YYYY','REMARKS ','INSTRUMENTS NAVAIDS'],axis = 1 , inplace= True)\n",
    "col = list(df.columns)\n",
    "#col"
   ]
  },
  {
   "cell_type": "markdown",
   "metadata": {},
   "source": [
    "# Creating list of columns to be dropped"
   ]
  },
  {
   "cell_type": "code",
   "execution_count": 17,
   "metadata": {},
   "outputs": [],
   "source": [
    "def drop (cols):\n",
    "    col_d=[]\n",
    "    for i in (cols):\n",
    "        if df[i].sum()==0:\n",
    "            col_d.append(i)\n",
    "    return col_d"
   ]
  },
  {
   "cell_type": "code",
   "execution_count": null,
   "metadata": {},
   "outputs": [],
   "source": [
    "col_drop = drop(col)\n",
    "#col_drop"
   ]
  },
  {
   "cell_type": "markdown",
   "metadata": {},
   "source": [
    "# Importing data and dropping columns from drop list"
   ]
  },
  {
   "cell_type": "code",
   "execution_count": null,
   "metadata": {},
   "outputs": [],
   "source": [
    "df=pd.DataFrame(pd.read_excel('Sample.xlsx'))\n",
    "df.drop(col_drop,axis = 1 , inplace= True)\n",
    "#df"
   ]
  },
  {
   "cell_type": "markdown",
   "metadata": {},
   "source": [
    "# User prompt for partial summary"
   ]
  },
  {
   "cell_type": "code",
   "execution_count": null,
   "metadata": {},
   "outputs": [
    {
     "name": "stdout",
     "output_type": "stream",
     "text": [
      "Sumarize from a start date : yes\n"
     ]
    }
   ],
   "source": [
    "partial_sum = input('Sumarize from a start date : ')\n",
    "if partial_sum.lower() =='no':\n",
    "    d='2013,01,01'\n",
    "    d = dtt.strptime(d,'%Y,%m,%d')\n",
    "else:\n",
    "    d = input('Summary Start Date: ')\n",
    "    d = dtt.strptime(d,'%Y,%m,%d')"
   ]
  },
  {
   "cell_type": "markdown",
   "metadata": {},
   "source": [
    "# Filtering Data frame based on User defined date"
   ]
  },
  {
   "cell_type": "code",
   "execution_count": null,
   "metadata": {},
   "outputs": [],
   "source": [
    "filtered = df[df['DATE DD/MM/YYYY']>=d]\n",
    "summary=filtered.groupby(['TYPE']).sum()"
   ]
  },
  {
   "cell_type": "markdown",
   "metadata": {},
   "source": [
    "# Determining date last flown (DLF) by type from Filterd DataFrame"
   ]
  },
  {
   "cell_type": "code",
   "execution_count": null,
   "metadata": {},
   "outputs": [],
   "source": [
    "DLF = filtered[['DATE DD/MM/YYYY','TYPE']].groupby(['TYPE']).max()\n",
    "#DLF"
   ]
  },
  {
   "cell_type": "markdown",
   "metadata": {},
   "source": [
    "# Creating initial Summary"
   ]
  },
  {
   "cell_type": "code",
   "execution_count": null,
   "metadata": {},
   "outputs": [],
   "source": [
    "summary = filtered.groupby(['TYPE']).sum()\n",
    "summary['DATE LAST FLOWN']=DLF['DATE DD/MM/YYYY']\n",
    "summary.drop(['LANDINGS DAY','LANDINGS NIGHT'],axis=1,inplace=True)\n",
    "#summary"
   ]
  },
  {
   "cell_type": "markdown",
   "metadata": {},
   "source": [
    "# Creating list of columns to drop from initial summary"
   ]
  },
  {
   "cell_type": "code",
   "execution_count": null,
   "metadata": {},
   "outputs": [],
   "source": [
    "scol=list(summary[summary.columns].drop(['DATE LAST FLOWN'],axis = 1))\n",
    "#scol"
   ]
  },
  {
   "cell_type": "code",
   "execution_count": null,
   "metadata": {},
   "outputs": [],
   "source": [
    "def sdrop(scol):\n",
    "    scolD=[]\n",
    "    for i in (scol):\n",
    "        if summary[i].sum() == 0:\n",
    "            scolD.append(i)\n",
    "    return scolD"
   ]
  },
  {
   "cell_type": "code",
   "execution_count": null,
   "metadata": {},
   "outputs": [],
   "source": [
    "scolD=sdrop(scol)\n",
    "#scolD"
   ]
  },
  {
   "cell_type": "markdown",
   "metadata": {},
   "source": [
    "# Creating final Summary with columns droped\n",
    "## Writing summary to Excel"
   ]
  },
  {
   "cell_type": "code",
   "execution_count": null,
   "metadata": {},
   "outputs": [],
   "source": [
    "Summary_Final = summary.drop(scolD,axis=1)\n",
    "Summary_Final.to_excel('sum.xlsx')\n",
    "Summary_Final"
   ]
  },
  {
   "cell_type": "code",
   "execution_count": null,
   "metadata": {},
   "outputs": [],
   "source": [
    "print('Done')"
   ]
  }
 ],
 "metadata": {
  "kernelspec": {
   "display_name": "Python 3",
   "language": "python",
   "name": "python3"
  },
  "language_info": {
   "codemirror_mode": {
    "name": "ipython",
    "version": 3
   },
   "file_extension": ".py",
   "mimetype": "text/x-python",
   "name": "python",
   "nbconvert_exporter": "python",
   "pygments_lexer": "ipython3",
   "version": "3.7.3"
  }
 },
 "nbformat": 4,
 "nbformat_minor": 2
}
