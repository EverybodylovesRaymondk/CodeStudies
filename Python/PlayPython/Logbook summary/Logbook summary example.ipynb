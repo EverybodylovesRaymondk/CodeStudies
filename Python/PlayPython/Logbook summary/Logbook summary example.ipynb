{
 "cells": [
  {
   "cell_type": "markdown",
   "metadata": {},
   "source": [
    "# Importing Modules"
   ]
  },
  {
   "cell_type": "code",
   "execution_count": 35,
   "metadata": {},
   "outputs": [],
   "source": [
    "import pandas as pd\n",
    "import numpy as np\n",
    "from datetime import date as dt\n",
    "from datetime import datetime as dtt"
   ]
  },
  {
   "cell_type": "markdown",
   "metadata": {},
   "source": [
    "# Importing Data\n",
    "## Creating DataFrame"
   ]
  },
  {
   "cell_type": "code",
   "execution_count": 36,
   "metadata": {
    "scrolled": false
   },
   "outputs": [],
   "source": [
    "df=pd.DataFrame(pd.read_excel('Sample.xlsx'))\n",
    "df.drop(['DATE DD/MM/YYYY','REMARKS ','INSTRUMENTS NAVAIDS'],axis = 1 , inplace= True)\n",
    "col = list(df.columns)\n",
    "#col"
   ]
  },
  {
   "cell_type": "markdown",
   "metadata": {},
   "source": [
    "# Creating list of columns to be dropped"
   ]
  },
  {
   "cell_type": "code",
   "execution_count": 37,
   "metadata": {},
   "outputs": [],
   "source": [
    "def drop (cols):\n",
    "    col_d=[]\n",
    "    for i in (cols):\n",
    "        if df[i].sum()==0:\n",
    "            col_d.append(i)\n",
    "    return col_d"
   ]
  },
  {
   "cell_type": "code",
   "execution_count": 38,
   "metadata": {},
   "outputs": [],
   "source": [
    "col_drop = drop(col)\n",
    "#col_drop"
   ]
  },
  {
   "cell_type": "markdown",
   "metadata": {},
   "source": [
    "# Importing data and dropping columns from drop list"
   ]
  },
  {
   "cell_type": "code",
   "execution_count": 39,
   "metadata": {},
   "outputs": [],
   "source": [
    "df=pd.DataFrame(pd.read_excel('Sample.xlsx'))\n",
    "df.drop(col_drop,axis = 1 , inplace= True)\n",
    "#df"
   ]
  },
  {
   "cell_type": "markdown",
   "metadata": {},
   "source": [
    "# User prompt for partial summary"
   ]
  },
  {
   "cell_type": "code",
   "execution_count": 40,
   "metadata": {},
   "outputs": [
    {
     "name": "stdout",
     "output_type": "stream",
     "text": [
      "Sumarize from a start date : no\n"
     ]
    }
   ],
   "source": [
    "partial_sum = input('Sumarize from a start date : ')\n",
    "if partial_sum.lower() =='no':\n",
    "    d='2013,01,01'\n",
    "    d = dtt.strptime(d,'%Y,%m,%d')\n",
    "else:\n",
    "    d = input('Summary Start Date: ')\n",
    "    d = dtt.strptime(d,'%Y,%m,%d')"
   ]
  },
  {
   "cell_type": "markdown",
   "metadata": {},
   "source": [
    "# Filtering Data frame based on User defined date"
   ]
  },
  {
   "cell_type": "code",
   "execution_count": 41,
   "metadata": {},
   "outputs": [],
   "source": [
    "filtered = df[df['DATE DD/MM/YYYY']>=d]\n",
    "summary=filtered.groupby(['TYPE']).sum()"
   ]
  },
  {
   "cell_type": "markdown",
   "metadata": {},
   "source": [
    "# Determining date last flown (DLF) by type from Filterd DataFrame"
   ]
  },
  {
   "cell_type": "code",
   "execution_count": 42,
   "metadata": {},
   "outputs": [],
   "source": [
    "DLF = filtered[['DATE DD/MM/YYYY','TYPE']].groupby(['TYPE']).max()\n",
    "#DLF"
   ]
  },
  {
   "cell_type": "markdown",
   "metadata": {},
   "source": [
    "# Creating initial Summary"
   ]
  },
  {
   "cell_type": "code",
   "execution_count": 43,
   "metadata": {},
   "outputs": [],
   "source": [
    "summary = filtered.groupby(['TYPE']).sum()\n",
    "summary['DATE LAST FLOWN']=DLF['DATE DD/MM/YYYY']\n",
    "summary.drop(['LANDINGS DAY','LANDINGS NIGHT'],axis=1,inplace=True)\n",
    "#summary"
   ]
  },
  {
   "cell_type": "markdown",
   "metadata": {},
   "source": [
    "# Creating list of columns to drop from initial summary"
   ]
  },
  {
   "cell_type": "code",
   "execution_count": 44,
   "metadata": {},
   "outputs": [],
   "source": [
    "scol=list(summary[summary.columns].drop(['DATE LAST FLOWN'],axis = 1))\n",
    "#scol"
   ]
  },
  {
   "cell_type": "code",
   "execution_count": 45,
   "metadata": {},
   "outputs": [],
   "source": [
    "def sdrop(scol):\n",
    "    scolD=[]\n",
    "    for i in (scol):\n",
    "        if summary[i].sum() == 0:\n",
    "            scolD.append(i)\n",
    "    return scolD"
   ]
  },
  {
   "cell_type": "code",
   "execution_count": 46,
   "metadata": {},
   "outputs": [],
   "source": [
    "scolD=sdrop(scol)\n",
    "#scolD"
   ]
  },
  {
   "cell_type": "markdown",
   "metadata": {},
   "source": [
    "# Creating final Summary with columns droped\n",
    "## Writing summary to Excel"
   ]
  },
  {
   "cell_type": "code",
   "execution_count": 47,
   "metadata": {},
   "outputs": [
    {
     "data": {
      "text/html": [
       "<div>\n",
       "<style scoped>\n",
       "    .dataframe tbody tr th:only-of-type {\n",
       "        vertical-align: middle;\n",
       "    }\n",
       "\n",
       "    .dataframe tbody tr th {\n",
       "        vertical-align: top;\n",
       "    }\n",
       "\n",
       "    .dataframe thead th {\n",
       "        text-align: right;\n",
       "    }\n",
       "</style>\n",
       "<table border=\"1\" class=\"dataframe\">\n",
       "  <thead>\n",
       "    <tr style=\"text-align: right;\">\n",
       "      <th></th>\n",
       "      <th>INSTRUMENTS ACTUAL</th>\n",
       "      <th>INSTRUMENTS FSTD</th>\n",
       "      <th>FSTD</th>\n",
       "      <th>SINGLE DAY DUAL</th>\n",
       "      <th>SINGLE DAY PIC</th>\n",
       "      <th>SINGLE NIGHT DUAL</th>\n",
       "      <th>SINGLE NIGHT PIC</th>\n",
       "      <th>DATE LAST FLOWN</th>\n",
       "    </tr>\n",
       "    <tr>\n",
       "      <th>TYPE</th>\n",
       "      <th></th>\n",
       "      <th></th>\n",
       "      <th></th>\n",
       "      <th></th>\n",
       "      <th></th>\n",
       "      <th></th>\n",
       "      <th></th>\n",
       "      <th></th>\n",
       "    </tr>\n",
       "  </thead>\n",
       "  <tbody>\n",
       "    <tr>\n",
       "      <th>C 150</th>\n",
       "      <td>0.0</td>\n",
       "      <td>0.0</td>\n",
       "      <td>0.0</td>\n",
       "      <td>6.5</td>\n",
       "      <td>0.6</td>\n",
       "      <td>0.0</td>\n",
       "      <td>0.0</td>\n",
       "      <td>2020-07-23</td>\n",
       "    </tr>\n",
       "    <tr>\n",
       "      <th>C 172</th>\n",
       "      <td>5.9</td>\n",
       "      <td>0.0</td>\n",
       "      <td>0.0</td>\n",
       "      <td>6.8</td>\n",
       "      <td>25.2</td>\n",
       "      <td>12.2</td>\n",
       "      <td>1.0</td>\n",
       "      <td>2019-03-16</td>\n",
       "    </tr>\n",
       "    <tr>\n",
       "      <th>C 210</th>\n",
       "      <td>0.0</td>\n",
       "      <td>0.0</td>\n",
       "      <td>0.0</td>\n",
       "      <td>1.5</td>\n",
       "      <td>0.0</td>\n",
       "      <td>0.0</td>\n",
       "      <td>0.0</td>\n",
       "      <td>2015-02-05</td>\n",
       "    </tr>\n",
       "    <tr>\n",
       "      <th>C 210 T</th>\n",
       "      <td>0.0</td>\n",
       "      <td>0.0</td>\n",
       "      <td>0.0</td>\n",
       "      <td>2.0</td>\n",
       "      <td>0.0</td>\n",
       "      <td>0.0</td>\n",
       "      <td>0.0</td>\n",
       "      <td>2017-11-14</td>\n",
       "    </tr>\n",
       "    <tr>\n",
       "      <th>FRASCA</th>\n",
       "      <td>0.0</td>\n",
       "      <td>5.0</td>\n",
       "      <td>5.0</td>\n",
       "      <td>0.0</td>\n",
       "      <td>0.0</td>\n",
       "      <td>0.0</td>\n",
       "      <td>0.0</td>\n",
       "      <td>2014-07-19</td>\n",
       "    </tr>\n",
       "    <tr>\n",
       "      <th>P 28 A 140</th>\n",
       "      <td>0.0</td>\n",
       "      <td>0.0</td>\n",
       "      <td>0.0</td>\n",
       "      <td>0.0</td>\n",
       "      <td>2.6</td>\n",
       "      <td>0.0</td>\n",
       "      <td>0.0</td>\n",
       "      <td>2018-06-23</td>\n",
       "    </tr>\n",
       "    <tr>\n",
       "      <th>P 28 A 180</th>\n",
       "      <td>0.0</td>\n",
       "      <td>0.0</td>\n",
       "      <td>0.0</td>\n",
       "      <td>0.0</td>\n",
       "      <td>1.6</td>\n",
       "      <td>0.0</td>\n",
       "      <td>0.0</td>\n",
       "      <td>2017-02-16</td>\n",
       "    </tr>\n",
       "    <tr>\n",
       "      <th>P28 A 160</th>\n",
       "      <td>0.0</td>\n",
       "      <td>0.0</td>\n",
       "      <td>0.0</td>\n",
       "      <td>51.3</td>\n",
       "      <td>15.9</td>\n",
       "      <td>0.0</td>\n",
       "      <td>0.0</td>\n",
       "      <td>2014-07-22</td>\n",
       "    </tr>\n",
       "    <tr>\n",
       "      <th>PA 28 R 180</th>\n",
       "      <td>0.0</td>\n",
       "      <td>0.0</td>\n",
       "      <td>0.0</td>\n",
       "      <td>1.0</td>\n",
       "      <td>1.0</td>\n",
       "      <td>0.0</td>\n",
       "      <td>0.0</td>\n",
       "      <td>2014-12-04</td>\n",
       "    </tr>\n",
       "    <tr>\n",
       "      <th>X 297</th>\n",
       "      <td>0.0</td>\n",
       "      <td>0.0</td>\n",
       "      <td>0.0</td>\n",
       "      <td>2.0</td>\n",
       "      <td>6.4</td>\n",
       "      <td>0.0</td>\n",
       "      <td>0.0</td>\n",
       "      <td>2018-05-26</td>\n",
       "    </tr>\n",
       "  </tbody>\n",
       "</table>\n",
       "</div>"
      ],
      "text/plain": [
       "             INSTRUMENTS ACTUAL  INSTRUMENTS FSTD  FSTD  SINGLE DAY DUAL   \\\n",
       "TYPE                                                                        \n",
       "C 150                       0.0               0.0   0.0               6.5   \n",
       "C 172                       5.9               0.0   0.0               6.8   \n",
       "C 210                       0.0               0.0   0.0               1.5   \n",
       "C 210 T                     0.0               0.0   0.0               2.0   \n",
       "FRASCA                      0.0               5.0   5.0               0.0   \n",
       "P 28 A 140                  0.0               0.0   0.0               0.0   \n",
       "P 28 A 180                  0.0               0.0   0.0               0.0   \n",
       "P28 A 160                   0.0               0.0   0.0              51.3   \n",
       "PA 28 R 180                 0.0               0.0   0.0               1.0   \n",
       "X 297                       0.0               0.0   0.0               2.0   \n",
       "\n",
       "             SINGLE DAY PIC  SINGLE NIGHT DUAL   SINGLE NIGHT PIC   \\\n",
       "TYPE                                                                 \n",
       "C 150                   0.6                 0.0                0.0   \n",
       "C 172                  25.2                12.2                1.0   \n",
       "C 210                   0.0                 0.0                0.0   \n",
       "C 210 T                 0.0                 0.0                0.0   \n",
       "FRASCA                  0.0                 0.0                0.0   \n",
       "P 28 A 140              2.6                 0.0                0.0   \n",
       "P 28 A 180              1.6                 0.0                0.0   \n",
       "P28 A 160              15.9                 0.0                0.0   \n",
       "PA 28 R 180             1.0                 0.0                0.0   \n",
       "X 297                   6.4                 0.0                0.0   \n",
       "\n",
       "            DATE LAST FLOWN  \n",
       "TYPE                         \n",
       "C 150            2020-07-23  \n",
       "C 172            2019-03-16  \n",
       "C 210            2015-02-05  \n",
       "C 210 T          2017-11-14  \n",
       "FRASCA           2014-07-19  \n",
       "P 28 A 140       2018-06-23  \n",
       "P 28 A 180       2017-02-16  \n",
       "P28 A 160        2014-07-22  \n",
       "PA 28 R 180      2014-12-04  \n",
       "X 297            2018-05-26  "
      ]
     },
     "execution_count": 47,
     "metadata": {},
     "output_type": "execute_result"
    }
   ],
   "source": [
    "Summary_Final = summary.drop(scolD,axis=1)\n",
    "Summary_Final.to_excel('sum.xlsx')\n",
    "Summary_Final"
   ]
  },
  {
   "cell_type": "code",
   "execution_count": 48,
   "metadata": {},
   "outputs": [
    {
     "name": "stdout",
     "output_type": "stream",
     "text": [
      "Done\n"
     ]
    }
   ],
   "source": [
    "print('Done')"
   ]
  }
 ],
 "metadata": {
  "kernelspec": {
   "display_name": "Python 3",
   "language": "python",
   "name": "python3"
  },
  "language_info": {
   "codemirror_mode": {
    "name": "ipython",
    "version": 3
   },
   "file_extension": ".py",
   "mimetype": "text/x-python",
   "name": "python",
   "nbconvert_exporter": "python",
   "pygments_lexer": "ipython3",
   "version": "3.7.3"
  }
 },
 "nbformat": 4,
 "nbformat_minor": 2
}
